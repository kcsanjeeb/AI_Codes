{
 "cells": [
  {
   "cell_type": "markdown",
   "metadata": {},
   "source": [
    "# Word Embedding in PyTorch + Lightning"
   ]
  },
  {
   "cell_type": "code",
   "execution_count": 1,
   "metadata": {},
   "outputs": [],
   "source": [
    "import torch\n",
    "import torch.nn as nn \n",
    "from torch.optim import Adam\n",
    "from torch.distributions.uniform import Uniform \n",
    "from torch.utils.data import TensorDataset, DataLoader\n",
    "\n",
    "import lightning as L \n",
    "import pandas as pd \n",
    "import matplotlib.pyplot as plt\n",
    "import seaborn as sns"
   ]
  },
  {
   "cell_type": "code",
   "execution_count": 2,
   "metadata": {},
   "outputs": [],
   "source": [
    "# Troll2 is great \n",
    "# Gymkata is great\n",
    "# Input : Troll2 is great Gymkata\n",
    "\n",
    "# Encoding the training data\n",
    "inputs = torch.tensor([[1.,0.,0.,0],        # One Hot encoding - troll2\n",
    "                       [0.,1.,0.,0.],       # One Hot encoding - is\n",
    "                       [0.,0.,1.,0.],       # One Hot encoding - great\n",
    "                       [0.,0.,0.,1.]])      # One Hot encoding - gymkata\n",
    "\n",
    "labels = torch.tensor([[0.,1.,0.,0],        # One Hot encoding - is\n",
    "                       [0.,0.,1.,0.],       # One Hot encoding - great\n",
    "                       [0.,0.,0.,1.],       # One Hot encoding - gymkata\n",
    "                       [0.,1.,0.,0.]])      # One Hot encoding - is\n",
    "\n",
    "dataset = TensorDataset(inputs,labels)\n",
    "dataloader = DataLoader(dataset)"
   ]
  },
  {
   "cell_type": "markdown",
   "metadata": {},
   "source": [
    "### Use of DataLoader \n",
    "1. They make it easy to access data in batches \n",
    "2. They make it easy to shuffle data in each epoch \n",
    "3. They make it easy to use a relatively small fraction of data if we want to do a quick and dirty training for debugging"
   ]
  },
  {
   "cell_type": "markdown",
   "metadata": {},
   "source": [
    "```py\n",
    "class WordEmbeddingFromScratch():\n",
    "    def __init__():\n",
    "        # Create & Initialize Weight tensors, and create the loss function \n",
    "    def forward(self,input):\n",
    "        # Make a forward pass through the network\n",
    "    def configure_optimizers(self):\n",
    "        # Configure Adam Optimizer\n",
    "    def training_step(self,batch,batch_idx):\n",
    "        # Calculate Loss \n",
    "```"
   ]
  },
  {
   "cell_type": "code",
   "execution_count": 3,
   "metadata": {},
   "outputs": [],
   "source": [
    "class WordEmbeddingFromScratch(L.LightningModule):\n",
    "\n",
    "    def __init__(self):\n",
    "        super().__init__()\n",
    "        # Using Uniform Distribution to generate random number \n",
    "        min_value = -0.5 \n",
    "        max_value = 0.5 \n",
    "        \n",
    "        self.input1_w1 = nn.Parameter(Uniform(min_value,max_value).sample())\n",
    "        self.input1_w2 = nn.Parameter(Uniform(min_value,max_value).sample())\n",
    "        self.input2_w1 = nn.Parameter(Uniform(min_value,max_value).sample())\n",
    "        self.input2_w2 = nn.Parameter(Uniform(min_value,max_value).sample())\n",
    "        self.input3_w1 = nn.Parameter(Uniform(min_value,max_value).sample())\n",
    "        self.input3_w2 = nn.Parameter(Uniform(min_value,max_value).sample())\n",
    "        self.input4_w1 = nn.Parameter(Uniform(min_value,max_value).sample())\n",
    "        self.input4_w2 = nn.Parameter(Uniform(min_value,max_value).sample())\n",
    "\n",
    "        self.output1_w1 = nn.Parameter(Uniform(min_value,max_value).sample())\n",
    "        self.output1_w2 = nn.Parameter(Uniform(min_value,max_value).sample())\n",
    "        self.output2_w1 = nn.Parameter(Uniform(min_value,max_value).sample())\n",
    "        self.output2_w2 = nn.Parameter(Uniform(min_value,max_value).sample())\n",
    "        self.output3_w1 = nn.Parameter(Uniform(min_value,max_value).sample())\n",
    "        self.output3_w2 = nn.Parameter(Uniform(min_value,max_value).sample())\n",
    "        self.output4_w1 = nn.Parameter(Uniform(min_value,max_value).sample())\n",
    "        self.output4_w2 = nn.Parameter(Uniform(min_value,max_value).sample())\n",
    "        \n",
    "        self.loss = nn.CrossEntropyLoss()\n",
    "    \n",
    "    def forward(self,input):\n",
    "        \n",
    "        input = input[0]\n",
    "        inputs_to_top_hidden = ((input[0]*self.input1_w1)+\n",
    "                               (input[1]*self.input2_w1)+\n",
    "                               (input[2]*self.input3_w1)+\n",
    "                               (input[3]*self.input4_w1))\n",
    "        inputs_to_bottom_hidden = ((input[0]*self.input1_w2)+\n",
    "                                  (input[1]*self.input2_w2)+\n",
    "                                  (input[2]*self.input3_w2)+\n",
    "                                  (input[3]*self.input4_w2))\n",
    "        \n",
    "        output1 = ((inputs_to_top_hidden * self.output1_w1) + \n",
    "                   (inputs_to_bottom_hidden * self.output1_w2))\n",
    "        output2 = ((inputs_to_top_hidden * self.output2_w1) + \n",
    "                   (inputs_to_bottom_hidden * self.output2_w2))\n",
    "        output3 = ((inputs_to_top_hidden * self.output3_w1) + \n",
    "                   (inputs_to_bottom_hidden * self.output3_w2))\n",
    "        output4 = ((inputs_to_top_hidden * self.output4_w1) + \n",
    "                   (inputs_to_bottom_hidden * self.output4_w2))\n",
    "        \n",
    "        # To preserve the gradients using torch.stack(), for backpropagation\n",
    "        output_presoftmax = torch.stack([output1,output2,output3,output4])\n",
    "        return(output_presoftmax)\n",
    "\n",
    "    def configure_optimizers(self):\n",
    "        return Adam(self.parameters(), lr=0.1) \n",
    "\n",
    "    def training_step(self,batch,batch_idx):\n",
    "        input_i, label_i = batch        \n",
    "        output_i = self.forward(input_i)\n",
    "        loss = self.loss(output_i, label_i[0]) \n",
    "        return loss"
   ]
  },
  {
   "cell_type": "markdown",
   "metadata": {},
   "source": [
    "`def training_step`: \n",
    "* `input_i, label_i = batch `: Split batch of training data into input, and labels (ideal output values)\n",
    "* `loss = self.loss(output_i, label_i[0])`: Run those output values generated by forward (output_i) along with the ideal values through the loss function nn.CrossEntropyLoss() then runs the output values through s SoftMax() Function and quantifies the difference betweeen the softmax output and ideal values "
   ]
  },
  {
   "cell_type": "code",
   "execution_count": 4,
   "metadata": {},
   "outputs": [],
   "source": [
    "modelFromScratch = WordEmbeddingFromScratch()\n",
    "\n",
    "# print(\"Before optimization, the parameters are...\")\n",
    "# for name, param in modelFromScratch.named_parameters():\n",
    "#     print(name, param.data)"
   ]
  },
  {
   "cell_type": "code",
   "execution_count": 5,
   "metadata": {},
   "outputs": [
    {
     "data": {
      "text/html": [
       "<div>\n",
       "<style scoped>\n",
       "    .dataframe tbody tr th:only-of-type {\n",
       "        vertical-align: middle;\n",
       "    }\n",
       "\n",
       "    .dataframe tbody tr th {\n",
       "        vertical-align: top;\n",
       "    }\n",
       "\n",
       "    .dataframe thead th {\n",
       "        text-align: right;\n",
       "    }\n",
       "</style>\n",
       "<table border=\"1\" class=\"dataframe\">\n",
       "  <thead>\n",
       "    <tr style=\"text-align: right;\">\n",
       "      <th></th>\n",
       "      <th>w1</th>\n",
       "      <th>w2</th>\n",
       "      <th>token</th>\n",
       "      <th>input</th>\n",
       "    </tr>\n",
       "  </thead>\n",
       "  <tbody>\n",
       "    <tr>\n",
       "      <th>0</th>\n",
       "      <td>-0.394602</td>\n",
       "      <td>0.263560</td>\n",
       "      <td>Troll2</td>\n",
       "      <td>input1</td>\n",
       "    </tr>\n",
       "    <tr>\n",
       "      <th>1</th>\n",
       "      <td>0.217060</td>\n",
       "      <td>-0.344027</td>\n",
       "      <td>is</td>\n",
       "      <td>input2</td>\n",
       "    </tr>\n",
       "    <tr>\n",
       "      <th>2</th>\n",
       "      <td>-0.232051</td>\n",
       "      <td>0.286288</td>\n",
       "      <td>great</td>\n",
       "      <td>input3</td>\n",
       "    </tr>\n",
       "    <tr>\n",
       "      <th>3</th>\n",
       "      <td>0.455688</td>\n",
       "      <td>-0.094633</td>\n",
       "      <td>Gymkata</td>\n",
       "      <td>input4</td>\n",
       "    </tr>\n",
       "  </tbody>\n",
       "</table>\n",
       "</div>"
      ],
      "text/plain": [
       "         w1        w2    token   input\n",
       "0 -0.394602  0.263560   Troll2  input1\n",
       "1  0.217060 -0.344027       is  input2\n",
       "2 -0.232051  0.286288    great  input3\n",
       "3  0.455688 -0.094633  Gymkata  input4"
      ]
     },
     "execution_count": 5,
     "metadata": {},
     "output_type": "execute_result"
    }
   ],
   "source": [
    "data={\n",
    "    \"w1\":[ modelFromScratch.input1_w1.item(),\n",
    "          modelFromScratch.input2_w1.item(),\n",
    "          modelFromScratch.input3_w1.item(),\n",
    "          modelFromScratch.input4_w1.item(),],\n",
    "    \"w2\":[ modelFromScratch.input1_w2.item(),\n",
    "          modelFromScratch.input2_w2.item(),\n",
    "          modelFromScratch.input3_w2.item(),\n",
    "          modelFromScratch.input4_w2.item(),],\n",
    "    \"token\":[\"Troll2\",\"is\",\"great\",\"Gymkata\"],\n",
    "    \"input\":[\"input1\",\"input2\",\"input3\",\"input4\"]\n",
    "}\n",
    "df = pd.DataFrame(data)\n",
    "df"
   ]
  },
  {
   "cell_type": "markdown",
   "metadata": {},
   "source": [
    "Now, we can easily see that the weights for troll2 (w1=-0.220266, w2=-0.016077), and Gymkata (w1=-0.362463,w2=0.326919) , are relatively different even though they both represent movie titles that are used in the same context."
   ]
  },
  {
   "cell_type": "code",
   "execution_count": 6,
   "metadata": {},
   "outputs": [
    {
     "data": {
      "image/png": "[encoded data removed]",
      "text/plain": [
       "<Figure size 640x480 with 1 Axes>"
      ]
     },
     "metadata": {},
     "output_type": "display_data"
    }
   ],
   "source": [
    "sns.scatterplot(data=df, x=\"w1\", y=\"w2\")\n",
    "plt.text(df.w1[0],df.w2[0],df.token[0], horizontalalignment='left', size='medium', color='black',weight='semibold')\n",
    "plt.text(df.w1[1],df.w2[1],df.token[1], horizontalalignment='left', size='medium', color='black',weight='semibold')\n",
    "plt.text(df.w1[2],df.w2[2],df.token[2], horizontalalignment='left', size='medium', color='black',weight='semibold')\n",
    "plt.text(df.w1[3],df.w2[3],df.token[3], horizontalalignment='left', size='medium', color='black',weight='semibold')\n",
    "plt.show()"
   ]
  },
  {
   "cell_type": "markdown",
   "metadata": {},
   "source": [
    "We can see that the embedding values for Troll2 and Gymkata are pretty different, and that means we need to train our Embedding network. "
   ]
  },
  {
   "cell_type": "markdown",
   "metadata": {},
   "source": [
    "We start training by creating a Lightning Trainer, called trainer, and tell it to train for at most 100 epochs. Which means we will do backpropagation for every weight using the training data at most 100 times."
   ]
  },
  {
   "cell_type": "code",
   "execution_count": 7,
   "metadata": {},
   "outputs": [
    {
     "name": "stderr",
     "output_type": "stream",
     "text": [
      "You are using the plain ModelCheckpoint callback. Consider using LitModelCheckpoint which with seamless uploading to Model registry.\n",
      "GPU available: True (mps), used: True\n",
      "TPU available: False, using: 0 TPU cores\n",
      "HPU available: False, using: 0 HPUs\n",
      "\n",
      "  | Name         | Type             | Params | Mode \n",
      "----------------------------------------------------------\n",
      "0 | loss         | CrossEntropyLoss | 0      | train\n",
      "  | other params | n/a              | 16     | n/a  \n",
      "----------------------------------------------------------\n",
      "16        Trainable params\n",
      "0         Non-trainable params\n",
      "16        Total params\n",
      "0.000     Total estimated model params size (MB)\n",
      "1         Modules in train mode\n",
      "0         Modules in eval mode\n",
      "/Users/sanjeeb/Desktop/Harbin Institute of Technology/Artificial Intelligence/AI_Codes/.venv/lib/python3.11/site-packages/lightning/pytorch/trainer/connectors/data_connector.py:425: The 'train_dataloader' does not have many workers which may be a bottleneck. Consider increasing the value of the `num_workers` argument` to `num_workers=7` in the `DataLoader` to improve performance.\n",
      "/Users/sanjeeb/Desktop/Harbin Institute of Technology/Artificial Intelligence/AI_Codes/.venv/lib/python3.11/site-packages/lightning/pytorch/loops/fit_loop.py:310: The number of training batches (4) is smaller than the logging interval Trainer(log_every_n_steps=50). Set a lower value for log_every_n_steps if you want to see logs for the training epoch.\n"
     ]
    },
    {
     "name": "stdout",
     "output_type": "stream",
     "text": [
      "Epoch 99: 100%|██████████| 4/4 [00:00<00:00, 153.54it/s, v_num=9]"
     ]
    },
    {
     "name": "stderr",
     "output_type": "stream",
     "text": [
      "`Trainer.fit` stopped: `max_epochs=100` reached.\n"
     ]
    },
    {
     "name": "stdout",
     "output_type": "stream",
     "text": [
      "Epoch 99: 100%|██████████| 4/4 [00:00<00:00, 96.86it/s, v_num=9] \n"
     ]
    }
   ],
   "source": [
    "trainer = L.Trainer(max_epochs=100)\n",
    "trainer.fit(modelFromScratch, train_dataloaders=dataloader)"
   ]
  },
  {
   "cell_type": "code",
   "execution_count": 8,
   "metadata": {},
   "outputs": [
    {
     "data": {
      "text/html": [
       "<div>\n",
       "<style scoped>\n",
       "    .dataframe tbody tr th:only-of-type {\n",
       "        vertical-align: middle;\n",
       "    }\n",
       "\n",
       "    .dataframe tbody tr th {\n",
       "        vertical-align: top;\n",
       "    }\n",
       "\n",
       "    .dataframe thead th {\n",
       "        text-align: right;\n",
       "    }\n",
       "</style>\n",
       "<table border=\"1\" class=\"dataframe\">\n",
       "  <thead>\n",
       "    <tr style=\"text-align: right;\">\n",
       "      <th></th>\n",
       "      <th>w1</th>\n",
       "      <th>w2</th>\n",
       "      <th>token</th>\n",
       "      <th>input</th>\n",
       "    </tr>\n",
       "  </thead>\n",
       "  <tbody>\n",
       "    <tr>\n",
       "      <th>0</th>\n",
       "      <td>0.332076</td>\n",
       "      <td>2.388683</td>\n",
       "      <td>Troll2</td>\n",
       "      <td>input1</td>\n",
       "    </tr>\n",
       "    <tr>\n",
       "      <th>1</th>\n",
       "      <td>0.893969</td>\n",
       "      <td>-2.718088</td>\n",
       "      <td>is</td>\n",
       "      <td>input2</td>\n",
       "    </tr>\n",
       "    <tr>\n",
       "      <th>2</th>\n",
       "      <td>-2.477659</td>\n",
       "      <td>-0.348136</td>\n",
       "      <td>great</td>\n",
       "      <td>input3</td>\n",
       "    </tr>\n",
       "    <tr>\n",
       "      <th>3</th>\n",
       "      <td>0.464947</td>\n",
       "      <td>2.167552</td>\n",
       "      <td>Gymkata</td>\n",
       "      <td>input4</td>\n",
       "    </tr>\n",
       "  </tbody>\n",
       "</table>\n",
       "</div>"
      ],
      "text/plain": [
       "         w1        w2    token   input\n",
       "0  0.332076  2.388683   Troll2  input1\n",
       "1  0.893969 -2.718088       is  input2\n",
       "2 -2.477659 -0.348136    great  input3\n",
       "3  0.464947  2.167552  Gymkata  input4"
      ]
     },
     "execution_count": 8,
     "metadata": {},
     "output_type": "execute_result"
    }
   ],
   "source": [
    "data={\n",
    "    \"w1\":[ modelFromScratch.input1_w1.item(),\n",
    "          modelFromScratch.input2_w1.item(),\n",
    "          modelFromScratch.input3_w1.item(),\n",
    "          modelFromScratch.input4_w1.item(),],\n",
    "    \"w2\":[ modelFromScratch.input1_w2.item(),\n",
    "          modelFromScratch.input2_w2.item(),\n",
    "          modelFromScratch.input3_w2.item(),\n",
    "          modelFromScratch.input4_w2.item(),],\n",
    "    \"token\":[\"Troll2\",\"is\",\"great\",\"Gymkata\"],\n",
    "    \"input\":[\"input1\",\"input2\",\"input3\",\"input4\"]\n",
    "}\n",
    "df = pd.DataFrame(data)\n",
    "df"
   ]
  },
  {
   "cell_type": "code",
   "execution_count": 9,
   "metadata": {},
   "outputs": [
    {
     "data": {
      "image/png": "[encoded data removed]",
      "text/plain": [
       "<Figure size 640x480 with 1 Axes>"
      ]
     },
     "metadata": {},
     "output_type": "display_data"
    }
   ],
   "source": [
    "sns.scatterplot(data=df, x=\"w1\", y=\"w2\")\n",
    "plt.text(df.w1[0],df.w2[0],df.token[0], horizontalalignment='left', size='medium', color='black',weight='semibold')\n",
    "plt.text(df.w1[1],df.w2[1],df.token[1], horizontalalignment='left', size='medium', color='black',weight='semibold')\n",
    "plt.text(df.w1[2],df.w2[2],df.token[2], horizontalalignment='left', size='medium', color='black',weight='semibold')\n",
    "plt.text(df.w1[3],df.w2[3],df.token[3], horizontalalignment='left', size='medium', color='black',weight='semibold')\n",
    "plt.show()"
   ]
  },
  {
   "cell_type": "markdown",
   "metadata": {},
   "source": [
    "And, now we can see that after training the Embedding network, the embedding values for Troll2 and Gymkata are very similar, which is great since they are used in similar context"
   ]
  },
  {
   "cell_type": "code",
   "execution_count": 10,
   "metadata": {},
   "outputs": [
    {
     "name": "stdout",
     "output_type": "stream",
     "text": [
      "tensor([0., 1., 0., 0.], grad_fn=<RoundBackward1>)\n",
      "tensor([0., 0., 1., 0.], grad_fn=<RoundBackward1>)\n",
      "tensor([0., 0., 0., 1.], grad_fn=<RoundBackward1>)\n",
      "tensor([0., 1., 0., 0.], grad_fn=<RoundBackward1>)\n"
     ]
    }
   ],
   "source": [
    "softmax = nn.Softmax(dim=0)\n",
    "print(torch.round(softmax(modelFromScratch(torch.tensor([[1.,0.,0.,0.]]))),decimals=2))\n",
    "print(torch.round(softmax(modelFromScratch(torch.tensor([[0.,1.,0.,0.]]))),decimals=2))\n",
    "print(torch.round(softmax(modelFromScratch(torch.tensor([[0.,0.,1.,0.]]))),decimals=2))\n",
    "print(torch.round(softmax(modelFromScratch(torch.tensor([[0.,0.,0.,1.]]))),decimals=2))"
   ]
  },
  {
   "cell_type": "markdown",
   "metadata": {},
   "source": [
    "# Pytorch linear function to create same network"
   ]
  },
  {
   "cell_type": "code",
   "execution_count": 11,
   "metadata": {},
   "outputs": [],
   "source": [
    "class WordEmbeddingWithLinear(L.LightningModule):\n",
    "\n",
    "    def __init__(self):\n",
    "        super().__init__()\n",
    "        self.input_to_hidden = nn.Linear(in_features=4,out_features=2,bias=False)\n",
    "        self.hidden_to_output = nn.Linear(in_features=2,out_features=4,bias=False)\n",
    "        self.loss = nn.CrossEntropyLoss()\n",
    "    \n",
    "    def forward(self,input):\n",
    "        hidden = self.input_to_hidden(input)\n",
    "        output_values = self.hidden_to_output(hidden) \n",
    "        return(output_values)\n",
    "\n",
    "    def configure_optimizers(self):\n",
    "        return Adam(self.parameters(), lr=0.1)\n",
    "    \n",
    "    def training_step(self,batch,batch_idx):\n",
    "        input_i, label_i = batch        \n",
    "        output_i = self.forward(input_i)\n",
    "        loss = self.loss(output_i, label_i) \n",
    "        return loss\n",
    "        "
   ]
  },
  {
   "cell_type": "code",
   "execution_count": 12,
   "metadata": {},
   "outputs": [
    {
     "data": {
      "text/html": [
       "<div>\n",
       "<style scoped>\n",
       "    .dataframe tbody tr th:only-of-type {\n",
       "        vertical-align: middle;\n",
       "    }\n",
       "\n",
       "    .dataframe tbody tr th {\n",
       "        vertical-align: top;\n",
       "    }\n",
       "\n",
       "    .dataframe thead th {\n",
       "        text-align: right;\n",
       "    }\n",
       "</style>\n",
       "<table border=\"1\" class=\"dataframe\">\n",
       "  <thead>\n",
       "    <tr style=\"text-align: right;\">\n",
       "      <th></th>\n",
       "      <th>w1</th>\n",
       "      <th>w2</th>\n",
       "      <th>token</th>\n",
       "      <th>input</th>\n",
       "    </tr>\n",
       "  </thead>\n",
       "  <tbody>\n",
       "    <tr>\n",
       "      <th>0</th>\n",
       "      <td>-0.389947</td>\n",
       "      <td>0.174259</td>\n",
       "      <td>Troll2</td>\n",
       "      <td>input1</td>\n",
       "    </tr>\n",
       "    <tr>\n",
       "      <th>1</th>\n",
       "      <td>-0.460252</td>\n",
       "      <td>0.206664</td>\n",
       "      <td>is</td>\n",
       "      <td>input2</td>\n",
       "    </tr>\n",
       "    <tr>\n",
       "      <th>2</th>\n",
       "      <td>-0.259422</td>\n",
       "      <td>-0.452506</td>\n",
       "      <td>great</td>\n",
       "      <td>input3</td>\n",
       "    </tr>\n",
       "    <tr>\n",
       "      <th>3</th>\n",
       "      <td>0.288348</td>\n",
       "      <td>0.483564</td>\n",
       "      <td>Gymkata</td>\n",
       "      <td>input4</td>\n",
       "    </tr>\n",
       "  </tbody>\n",
       "</table>\n",
       "</div>"
      ],
      "text/plain": [
       "         w1        w2    token   input\n",
       "0 -0.389947  0.174259   Troll2  input1\n",
       "1 -0.460252  0.206664       is  input2\n",
       "2 -0.259422 -0.452506    great  input3\n",
       "3  0.288348  0.483564  Gymkata  input4"
      ]
     },
     "execution_count": 12,
     "metadata": {},
     "output_type": "execute_result"
    }
   ],
   "source": [
    "modelLinear = WordEmbeddingWithLinear()\n",
    "\n",
    "data={\n",
    "    \"w1\":modelLinear.input_to_hidden.weight.detach()[0].numpy(),\n",
    "    \"w2\":modelLinear.input_to_hidden.weight.detach()[1].numpy(),\n",
    "    \"token\":[\"Troll2\",\"is\",\"great\",\"Gymkata\"],\n",
    "    \"input\":[\"input1\",\"input2\",\"input3\",\"input4\"]\n",
    "}\n",
    "df = pd.DataFrame(data)\n",
    "df"
   ]
  },
  {
   "cell_type": "code",
   "execution_count": 13,
   "metadata": {},
   "outputs": [
    {
     "data": {
      "image/png": "[encoded data removed]",
      "text/plain": [
       "<Figure size 640x480 with 1 Axes>"
      ]
     },
     "metadata": {},
     "output_type": "display_data"
    }
   ],
   "source": [
    "sns.scatterplot(data=df, x=\"w1\", y=\"w2\")\n",
    "plt.text(df.w1[0],df.w2[0],df.token[0], horizontalalignment='left', size='medium', color='black',weight='semibold')\n",
    "plt.text(df.w1[1],df.w2[1],df.token[1], horizontalalignment='left', size='medium', color='black',weight='semibold')\n",
    "plt.text(df.w1[2],df.w2[2],df.token[2], horizontalalignment='left', size='medium', color='black',weight='semibold')\n",
    "plt.text(df.w1[3],df.w2[3],df.token[3], horizontalalignment='left', size='medium', color='black',weight='semibold')\n",
    "plt.show()"
   ]
  },
  {
   "cell_type": "code",
   "execution_count": 14,
   "metadata": {},
   "outputs": [
    {
     "name": "stderr",
     "output_type": "stream",
     "text": [
      "You are using the plain ModelCheckpoint callback. Consider using LitModelCheckpoint which with seamless uploading to Model registry.\n",
      "GPU available: True (mps), used: True\n",
      "TPU available: False, using: 0 TPU cores\n",
      "HPU available: False, using: 0 HPUs\n",
      "\n",
      "  | Name             | Type             | Params | Mode \n",
      "--------------------------------------------------------------\n",
      "0 | input_to_hidden  | Linear           | 8      | train\n",
      "1 | hidden_to_output | Linear           | 8      | train\n",
      "2 | loss             | CrossEntropyLoss | 0      | train\n",
      "--------------------------------------------------------------\n",
      "16        Trainable params\n",
      "0         Non-trainable params\n",
      "16        Total params\n",
      "0.000     Total estimated model params size (MB)\n",
      "3         Modules in train mode\n",
      "0         Modules in eval mode\n",
      "/Users/sanjeeb/Desktop/Harbin Institute of Technology/Artificial Intelligence/AI_Codes/.venv/lib/python3.11/site-packages/lightning/pytorch/trainer/connectors/data_connector.py:425: The 'train_dataloader' does not have many workers which may be a bottleneck. Consider increasing the value of the `num_workers` argument` to `num_workers=7` in the `DataLoader` to improve performance.\n",
      "/Users/sanjeeb/Desktop/Harbin Institute of Technology/Artificial Intelligence/AI_Codes/.venv/lib/python3.11/site-packages/lightning/pytorch/loops/fit_loop.py:310: The number of training batches (4) is smaller than the logging interval Trainer(log_every_n_steps=50). Set a lower value for log_every_n_steps if you want to see logs for the training epoch.\n"
     ]
    },
    {
     "name": "stdout",
     "output_type": "stream",
     "text": [
      "Epoch 99: 100%|██████████| 4/4 [00:00<00:00, 117.48it/s, v_num=10]"
     ]
    },
    {
     "name": "stderr",
     "output_type": "stream",
     "text": [
      "`Trainer.fit` stopped: `max_epochs=100` reached.\n"
     ]
    },
    {
     "name": "stdout",
     "output_type": "stream",
     "text": [
      "Epoch 99: 100%|██████████| 4/4 [00:00<00:00, 96.17it/s, v_num=10] \n"
     ]
    }
   ],
   "source": [
    "trainer = L.Trainer(max_epochs=100)\n",
    "trainer.fit(modelLinear, train_dataloaders=dataloader)"
   ]
  },
  {
   "cell_type": "code",
   "execution_count": 15,
   "metadata": {},
   "outputs": [
    {
     "data": {
      "text/html": [
       "<div>\n",
       "<style scoped>\n",
       "    .dataframe tbody tr th:only-of-type {\n",
       "        vertical-align: middle;\n",
       "    }\n",
       "\n",
       "    .dataframe tbody tr th {\n",
       "        vertical-align: top;\n",
       "    }\n",
       "\n",
       "    .dataframe thead th {\n",
       "        text-align: right;\n",
       "    }\n",
       "</style>\n",
       "<table border=\"1\" class=\"dataframe\">\n",
       "  <thead>\n",
       "    <tr style=\"text-align: right;\">\n",
       "      <th></th>\n",
       "      <th>w1</th>\n",
       "      <th>w2</th>\n",
       "      <th>token</th>\n",
       "      <th>input</th>\n",
       "    </tr>\n",
       "  </thead>\n",
       "  <tbody>\n",
       "    <tr>\n",
       "      <th>0</th>\n",
       "      <td>-0.030561</td>\n",
       "      <td>-0.426485</td>\n",
       "      <td>Troll2</td>\n",
       "      <td>input1</td>\n",
       "    </tr>\n",
       "    <tr>\n",
       "      <th>1</th>\n",
       "      <td>-0.162059</td>\n",
       "      <td>0.118860</td>\n",
       "      <td>is</td>\n",
       "      <td>input2</td>\n",
       "    </tr>\n",
       "    <tr>\n",
       "      <th>2</th>\n",
       "      <td>-0.175114</td>\n",
       "      <td>-0.120226</td>\n",
       "      <td>great</td>\n",
       "      <td>input3</td>\n",
       "    </tr>\n",
       "    <tr>\n",
       "      <th>3</th>\n",
       "      <td>-0.170444</td>\n",
       "      <td>-0.113014</td>\n",
       "      <td>Gymkata</td>\n",
       "      <td>input4</td>\n",
       "    </tr>\n",
       "  </tbody>\n",
       "</table>\n",
       "</div>"
      ],
      "text/plain": [
       "         w1        w2    token   input\n",
       "0 -0.030561 -0.426485   Troll2  input1\n",
       "1 -0.162059  0.118860       is  input2\n",
       "2 -0.175114 -0.120226    great  input3\n",
       "3 -0.170444 -0.113014  Gymkata  input4"
      ]
     },
     "execution_count": 15,
     "metadata": {},
     "output_type": "execute_result"
    }
   ],
   "source": [
    "modelLinear = WordEmbeddingWithLinear()\n",
    "\n",
    "data={\n",
    "    \"w1\":modelLinear.input_to_hidden.weight.detach()[0].numpy(),\n",
    "    \"w2\":modelLinear.input_to_hidden.weight.detach()[1].numpy(),\n",
    "    \"token\":[\"Troll2\",\"is\",\"great\",\"Gymkata\"],\n",
    "    \"input\":[\"input1\",\"input2\",\"input3\",\"input4\"]\n",
    "}\n",
    "df = pd.DataFrame(data)\n",
    "df"
   ]
  },
  {
   "cell_type": "code",
   "execution_count": 16,
   "metadata": {},
   "outputs": [
    {
     "data": {
      "image/png": "[encoded data removed]",
      "text/plain": [
       "<Figure size 640x480 with 1 Axes>"
      ]
     },
     "metadata": {},
     "output_type": "display_data"
    }
   ],
   "source": [
    "sns.scatterplot(data=df, x=\"w1\", y=\"w2\")\n",
    "plt.text(df.w1[0],df.w2[0],df.token[0], horizontalalignment='left', size='medium', color='black',weight='semibold')\n",
    "plt.text(df.w1[1],df.w2[1],df.token[1], horizontalalignment='left', size='medium', color='black',weight='semibold')\n",
    "plt.text(df.w1[2],df.w2[2],df.token[2], horizontalalignment='left', size='medium', color='black',weight='semibold')\n",
    "plt.text(df.w1[3],df.w2[3],df.token[3], horizontalalignment='left', size='medium', color='black',weight='semibold')\n",
    "plt.show()"
   ]
  },
  {
   "cell_type": "markdown",
   "metadata": {},
   "source": [
    "# Loading and using pre-trained Embedding values with nn.Embedding"
   ]
  },
  {
   "cell_type": "code",
   "execution_count": 17,
   "metadata": {},
   "outputs": [
    {
     "data": {
      "text/plain": [
       "Parameter containing:\n",
       "tensor([[-0.0306, -0.1621, -0.1751, -0.1704],\n",
       "        [-0.4265,  0.1189, -0.1202, -0.1130]], requires_grad=True)"
      ]
     },
     "execution_count": 17,
     "metadata": {},
     "output_type": "execute_result"
    }
   ],
   "source": [
    "modelLinear.input_to_hidden.weight"
   ]
  },
  {
   "cell_type": "code",
   "execution_count": 18,
   "metadata": {},
   "outputs": [
    {
     "data": {
      "text/plain": [
       "Parameter containing:\n",
       "tensor([[-0.0306, -0.4265],\n",
       "        [-0.1621,  0.1189],\n",
       "        [-0.1751, -0.1202],\n",
       "        [-0.1704, -0.1130]])"
      ]
     },
     "execution_count": 18,
     "metadata": {},
     "output_type": "execute_result"
    }
   ],
   "source": [
    "word_embeddings = nn.Embedding.from_pretrained(modelLinear.input_to_hidden.weight.T)\n",
    "word_embeddings.weight"
   ]
  },
  {
   "cell_type": "code",
   "execution_count": 20,
   "metadata": {},
   "outputs": [
    {
     "data": {
      "text/plain": [
       "tensor([-0.0306, -0.4265])"
      ]
     },
     "execution_count": 20,
     "metadata": {},
     "output_type": "execute_result"
    }
   ],
   "source": [
    "word_embeddings(torch.tensor(0))"
   ]
  },
  {
   "cell_type": "code",
   "execution_count": 21,
   "metadata": {},
   "outputs": [
    {
     "data": {
      "text/plain": [
       "tensor([-0.0306, -0.4265])"
      ]
     },
     "execution_count": 21,
     "metadata": {},
     "output_type": "execute_result"
    }
   ],
   "source": [
    "vocab = {\n",
    "    'Troll2':0,\n",
    "    'is':1,\n",
    "    'great':2,\n",
    "    'Gymkata': 3\n",
    "}\n",
    "word_embeddings(torch.tensor(vocab['Troll2']))"
   ]
  }
 ],
 "metadata": {
  "kernelspec": {
   "display_name": ".venv",
   "language": "python",
   "name": "python3"
  },
  "language_info": {
   "codemirror_mode": {
    "name": "ipython",
    "version": 3
   },
   "file_extension": ".py",
   "mimetype": "text/x-python",
   "name": "python",
   "nbconvert_exporter": "python",
   "pygments_lexer": "ipython3",
   "version": "3.11.0"
  }
 },
 "nbformat": 4,
 "nbformat_minor": 2
}
