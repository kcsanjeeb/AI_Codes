{
 "cells": [
  {
   "cell_type": "markdown",
   "metadata": {},
   "source": [
    "# Building a Decoder only Transformer "
   ]
  },
  {
   "cell_type": "markdown",
   "metadata": {},
   "source": [
    "We will be building a decoder only transformer, which is foundation for ChatGPT.\n",
    "\n",
    "For this example, all we want is for the transformer to respond to two different prompts. \n",
    "* What is StatQuest? --> Answer: Awesome! \n",
    "* StatQuest is what? --> Answer: Awesome!"
   ]
  },
  {
   "cell_type": "code",
   "execution_count": 1,
   "metadata": {},
   "outputs": [],
   "source": [
    "import torch \n",
    "import torch.nn as nn \n",
    "import torch.nn.functional as F \n",
    "\n",
    "from torch.optim import Adam \n",
    "from torch.utils.data import TensorDataset, DataLoader\n",
    "\n",
    "import lightning as L "
   ]
  },
  {
   "cell_type": "markdown",
   "metadata": {},
   "source": [
    "These dictionaries will make it easy to format the input to the Transformer and interpret the output from the Transformer."
   ]
  },
  {
   "cell_type": "code",
   "execution_count": 2,
   "metadata": {},
   "outputs": [],
   "source": [
    "token_to_id = {'what':0,\n",
    "               'is':1,\n",
    "               'statquest':2,\n",
    "               'awesome':3,\n",
    "               '<EOS>':4}\n",
    "\n",
    "id_to_token = dict(map(reversed, token_to_id.items()))"
   ]
  },
  {
   "cell_type": "markdown",
   "metadata": {},
   "source": [
    "Convert the prompts and responses into a dataset. \n",
    "![](https://github.com/kcsanjeeb/AI_Codes/blob/main/public/transformer-1.png?raw=true)\n"
   ]
  },
  {
   "cell_type": "markdown",
   "metadata": {},
   "source": [
    "# Input and Labels"
   ]
  },
  {
   "cell_type": "code",
   "execution_count": 3,
   "metadata": {},
   "outputs": [],
   "source": [
    "# Input and Label for \n",
    "# First Prompt: What is StatQuest? --> Awesome \n",
    "# Second Prompt: StatQuest is What? --> Awesome                 )\n",
    "\n",
    "# Input tensor (batch_size=2, sequence_length=5)\n",
    "inputs = torch.tensor([\n",
    "    [token_to_id[\"what\"], token_to_id[\"is\"], token_to_id[\"statquest\"], token_to_id[\"<EOS>\"], token_to_id[\"awesome\"]],\n",
    "    [token_to_id[\"statquest\"], token_to_id[\"is\"], token_to_id[\"what\"], token_to_id[\"<EOS>\"], token_to_id[\"awesome\"]]\n",
    "])\n",
    "\n",
    "# Labels tensor (should match inputs shape)\n",
    "labels = torch.tensor([\n",
    "    [token_to_id[\"is\"], token_to_id[\"statquest\"], token_to_id[\"<EOS>\"], token_to_id[\"awesome\"], token_to_id[\"<EOS>\"]],\n",
    "    [token_to_id[\"is\"], token_to_id[\"what\"], token_to_id[\"<EOS>\"], token_to_id[\"awesome\"], token_to_id[\"<EOS>\"]]\n",
    "])\n",
    "\n",
    "dataset = TensorDataset(inputs, labels)\n",
    "dataloader = DataLoader(dataset)"
   ]
  },
  {
   "cell_type": "markdown",
   "metadata": {},
   "source": [
    "###  Positional Encoding\n",
    "\n",
    "#### The Original Equation\n",
    "$$ PE_{(pos, 2i)} = \\sin\\left(\\frac{pos}{10000^{2i/d_{\\text{model}}}}\\right) $$ \n",
    "$$ PE_{(pos, 2i+1)} = \\cos\\left(\\frac{pos}{10000^{2i/d_{\\text{model}}}}\\right) $$ \n",
    "\n",
    "Where:\n",
    "* `pos` is the position in the sequence\n",
    "* `i` is the dimension index\n",
    "* `d_model` (Dimention of the model), is the number of word embeddings values per token \n",
    "\n",
    "The alternating sin/cos pattern allows the model to learn relative positions through linear transformations.\n",
    "\n",
    "* `max_len` : Maximum number of tokens our Transformer can process (input & output combined)"
   ]
  },
  {
   "cell_type": "code",
   "execution_count": 4,
   "metadata": {},
   "outputs": [],
   "source": [
    "class PositionEncoding(nn.Module):\n",
    "    def __init__(self, d_model=2, max_len=6):\n",
    "        super().__init__()\n",
    "        pe = torch.zeros(max_len, d_model)  \n",
    "        position = torch.arange(start=0,end=max_len,step=1).float().unsqueeze(1)\n",
    "        embedding_index = torch.arange(start=0, end=d_model, step=2).float()\n",
    "        div_term = 1/torch.tensor(10000.0)**(embedding_index / d_model)\n",
    "        pe[:, 0::2] = torch.sin(position * div_term)\n",
    "        pe[:, 1::2] = torch.cos(position * div_term)\n",
    "        self.register_buffer('pe', pe)\n",
    "        \n",
    "    def forward(self,word_embeddings):\n",
    "        return word_embeddings + self.pe[:word_embeddings.size(0), :]"
   ]
  },
  {
   "cell_type": "markdown",
   "metadata": {},
   "source": [
    "* `pe = torch.zeros(max_len, d_model)` : We start by creating a matrix that we will call `pe`, for position encodings, that is full of 0's. pe will have max_len rows and d_model columns.\n",
    "* `position = torch.arange(start=0,end=max_len,step=1).float().unsqueeze(1)`:\n",
    "    * Now, we create a column matrix, position, that represents the positions `pos` for each token\n",
    "    * Using torch.arange to create a seq of numbers between 0 and max_len  \n",
    "    * .float() ensures that numbers are float \n",
    "    * .unsqueeze(1) turns the seq of number into a column matrix \n",
    "* `embedding_index = torch.arange(start=0, end=d_model, step=2).float()` :\n",
    "    * Now, we create a row matrix, embedding_position, that represents the index `i` times `2`, for each word embedding.\n",
    "* `div_term = 1/torch.tensor(10000.0)**(embedding_index / d_model)` : Devisor like formula\n",
    "* `pe[:, 0::2] = torch.sin(position * div_term)` : Takes the first column as value of sin() function\n",
    "* `pe[:, 1::2] = torch.cos(position * div_term)` : Takes the second column as value of cos() function\n",
    "* `self.register_buffer('pe', pe)` : Ensure that pe gets moved to GPU if we use one. \n"
   ]
  },
  {
   "cell_type": "markdown",
   "metadata": {},
   "source": [
    "### Masked Self Attention \n",
    "* We need to calculate the query, key, and values for each token. "
   ]
  },
  {
   "cell_type": "markdown",
   "metadata": {},
   "source": [
    "* `self.W_q = nn.Linear(in_features=d_model, out_features=d_model, bias=False)` : \n",
    "    * in_features define how many rows are in the weight matrix, so we set it to d_model\n",
    "    * out_features define the number of columns in the weight matrix, so we set it to d_model as well \n",
    "* W_q untrained weights needed to calculate **query**\n",
    "* W_k weights needed to calculate the **keys**\n",
    "* W_v weights needed to calculate the **values**\n",
    "\n",
    "Encoder decoder transformers have something called **Encoder decoder attention**, where the **keys** and **values** are calculated from the encoded tokens in the **Encoder** , and the **queries** are calculated from the encoded tokens from the **decoder**.  \n",
    "\n",
    "#### Attention Equation\n",
    "$$ \\text{Attention}(\\mathbf{Q}, \\mathbf{K}, \\mathbf{V}) = \\text{softmax}\\left(\\frac{\\mathbf{Q}\\mathbf{K}^\\top}{\\sqrt{d_k}}\\right)\\mathbf{V} $$ "
   ]
  },
  {
   "cell_type": "code",
   "execution_count": 5,
   "metadata": {},
   "outputs": [],
   "source": [
    "class Attention(nn.Module):\n",
    "    def __init__(self,d_model=2):\n",
    "        super().__init__()\n",
    "        self.W_q = nn.Linear(in_features=d_model, out_features=d_model, bias=False)    \n",
    "        self.W_k = nn.Linear(in_features=d_model, out_features=d_model, bias=False)  \n",
    "        self.W_v = nn.Linear(in_features=d_model, out_features=d_model, bias=False)  \n",
    "        \n",
    "        self.row_dim = 0 \n",
    "        self.col_dim = 1\n",
    "    \n",
    "    def forward(self, encodings_for_q, encodings_for_k, encodings_for_v, mask=None):\n",
    "        \n",
    "        q = self.W_q(encodings_for_q)\n",
    "        k = self.W_k(encodings_for_k)\n",
    "        v = self.W_v(encodings_for_v)\n",
    "        \n",
    "        sims = torch.matmul(q, k.transpose(dim0=self.row_dim, dim1=self.col_dim))\n",
    "        scaled_sims = sims / torch.tensor(k.size(self.col_dim)**0.5)\n",
    "        \n",
    "        if mask is not None: \n",
    "            scaled_sims = scaled_sims.masked_fill(mask=mask , value=-1e9)\n",
    "        \n",
    "        attention_percents = F.softmax(scaled_sims, dim=self.col_dim)\n",
    "        \n",
    "        attention_scores = torch.matmul(attention_percents , v)\n",
    "        \n",
    "        return attention_scores "
   ]
  },
  {
   "cell_type": "code",
   "execution_count": 6,
   "metadata": {},
   "outputs": [],
   "source": [
    "class DecoderOnlyTransformer(L.LightningModule):\n",
    "    def __init__(self, num_tokens=4, d_model=2, max_len=6):\n",
    "        super().__init__()\n",
    "        self.we = nn.Embedding(num_embeddings=num_tokens, embedding_dim=d_model)\n",
    "        self.pe = PositionEncoding(d_model=d_model,max_len=max_len)\n",
    "        self.self_attention = Attention(d_model=d_model)\n",
    "        self.fc_layer = nn.Linear(in_features=d_model, out_features=num_tokens)\n",
    "        self.loss = nn.CrossEntropyLoss()\n",
    "    \n",
    "    def forward(self, token_ids):\n",
    "        word_embeddings = self.we(token_ids)\n",
    "        position_encoded = self.pe(word_embeddings)\n",
    "        \n",
    "        # Create mask on the same device as the model\n",
    "        mask = torch.tril(torch.ones((token_ids.size(0), token_ids.size(0)), \n",
    "                                   device=self.device))  # Add device parameter\n",
    "        mask = mask == 0\n",
    "        \n",
    "        self_attention_values = self.self_attention(position_encoded, \n",
    "                                                    position_encoded,\n",
    "                                                    position_encoded,\n",
    "                                                    mask=mask)\n",
    "\n",
    "        residual_connection_values = position_encoded + self_attention_values\n",
    "        fc_layer_output = self.fc_layer(residual_connection_values)\n",
    "        return fc_layer_output\n",
    "    \n",
    "    def configure_optimizers(self):\n",
    "        return Adam(self.parameters(), lr=0.1)\n",
    "    \n",
    "    def training_step(self, batch, batch_idx):\n",
    "        input_tokens, labels = batch \n",
    "        output = self.forward(input_tokens[0])\n",
    "        loss = self.loss(output, labels[0])\n",
    "        return loss"
   ]
  },
  {
   "cell_type": "markdown",
   "metadata": {},
   "source": [
    "* `num_tokens`: Number of tokens in the vocabulary. \n",
    "* `d_model`: The number of tokens we want to represent each token \n",
    "* `max_len`: The maximum length of input plus output "
   ]
  },
  {
   "cell_type": "code",
   "execution_count": 7,
   "metadata": {},
   "outputs": [
    {
     "name": "stdout",
     "output_type": "stream",
     "text": [
      "Predicted Tokens :\n",
      "\n",
      "\t statquest\n",
      "\t statquest\n",
      "\t awesome\n"
     ]
    }
   ],
   "source": [
    "model = DecoderOnlyTransformer(num_tokens=len(token_to_id), d_model=2, max_len=6 )\n",
    "model_input =  torch.tensor([token_to_id[\"what\"],\n",
    "                            token_to_id[\"is\"],\n",
    "                            token_to_id[\"statquest\"],\n",
    "                            token_to_id[\"<EOS>\"]])\n",
    "input_length = model_input.size(dim=0)\n",
    "\n",
    "predictions = model(model_input)\n",
    "predicted_id = torch.tensor([torch.argmax(predictions[-1,:])])\n",
    "predicted_ids = predicted_id\n",
    "\n",
    "max_length = 6 \n",
    "for i in range(input_length, max_length):\n",
    "    if (predicted_id == token_to_id[\"<EOS>\"]):\n",
    "        break\n",
    "    model_input = torch.cat((model_input, predicted_id))\n",
    "    \n",
    "    predictions = model(model_input)\n",
    "    predicted_id = torch.tensor([torch.argmax(predictions[-1,:])])\n",
    "    predicted_ids = torch.cat((predicted_ids, predicted_id))\n",
    "\n",
    "print(\"Predicted Tokens :\\n\")\n",
    "for id in predicted_ids:\n",
    "    print(\"\\t\", id_to_token[id.item()])"
   ]
  },
  {
   "cell_type": "code",
   "execution_count": 11,
   "metadata": {},
   "outputs": [
    {
     "name": "stderr",
     "output_type": "stream",
     "text": [
      "You are using the plain ModelCheckpoint callback. Consider using LitModelCheckpoint which with seamless uploading to Model registry.\n",
      "GPU available: True (mps), used: True\n",
      "TPU available: False, using: 0 TPU cores\n",
      "HPU available: False, using: 0 HPUs\n",
      "\n",
      "  | Name           | Type             | Params | Mode \n",
      "------------------------------------------------------------\n",
      "0 | we             | Embedding        | 10     | train\n",
      "1 | pe             | PositionEncoding | 0      | train\n",
      "2 | self_attention | Attention        | 12     | train\n",
      "3 | fc_layer       | Linear           | 15     | train\n",
      "4 | loss           | CrossEntropyLoss | 0      | train\n",
      "------------------------------------------------------------\n",
      "37        Trainable params\n",
      "0         Non-trainable params\n",
      "37        Total params\n",
      "0.000     Total estimated model params size (MB)\n",
      "8         Modules in train mode\n",
      "0         Modules in eval mode\n",
      "/Users/sanjeeb/Desktop/Harbin Institute of Technology/Artificial Intelligence/AI_Codes/.venv/lib/python3.11/site-packages/lightning/pytorch/trainer/connectors/data_connector.py:425: The 'train_dataloader' does not have many workers which may be a bottleneck. Consider increasing the value of the `num_workers` argument` to `num_workers=7` in the `DataLoader` to improve performance.\n",
      "/Users/sanjeeb/Desktop/Harbin Institute of Technology/Artificial Intelligence/AI_Codes/.venv/lib/python3.11/site-packages/lightning/pytorch/loops/fit_loop.py:310: The number of training batches (2) is smaller than the logging interval Trainer(log_every_n_steps=50). Set a lower value for log_every_n_steps if you want to see logs for the training epoch.\n"
     ]
    },
    {
     "name": "stdout",
     "output_type": "stream",
     "text": [
      "Epoch 29: 100%|██████████| 2/2 [00:00<00:00, 183.86it/s, v_num=0]"
     ]
    },
    {
     "name": "stderr",
     "output_type": "stream",
     "text": [
      "`Trainer.fit` stopped: `max_epochs=30` reached.\n"
     ]
    },
    {
     "name": "stdout",
     "output_type": "stream",
     "text": [
      "Epoch 29: 100%|██████████| 2/2 [00:00<00:00, 112.56it/s, v_num=0]\n"
     ]
    }
   ],
   "source": [
    "trainer = L.Trainer(max_epochs=30)\n",
    "trainer.fit(model, train_dataloaders=dataloader)"
   ]
  },
  {
   "cell_type": "markdown",
   "metadata": {},
   "source": [
    "# Using the trained Model "
   ]
  },
  {
   "cell_type": "code",
   "execution_count": 12,
   "metadata": {},
   "outputs": [
    {
     "name": "stdout",
     "output_type": "stream",
     "text": [
      "Predicted Tokens :\n",
      "\n",
      "\t awesome\n",
      "\t <EOS>\n"
     ]
    }
   ],
   "source": [
    "model_input =  torch.tensor([token_to_id[\"what\"],\n",
    "                            token_to_id[\"is\"],\n",
    "                            token_to_id[\"statquest\"],\n",
    "                            token_to_id[\"<EOS>\"]])\n",
    "input_length = model_input.size(dim=0)\n",
    "\n",
    "predictions = model(model_input)\n",
    "predicted_id = torch.tensor([torch.argmax(predictions[-1,:])])\n",
    "predicted_ids = predicted_id\n",
    "\n",
    "max_length = 6 \n",
    "for i in range(input_length, max_length):\n",
    "    if (predicted_id == token_to_id[\"<EOS>\"]):\n",
    "        break\n",
    "    model_input = torch.cat((model_input, predicted_id))\n",
    "    \n",
    "    predictions = model(model_input)\n",
    "    predicted_id = torch.tensor([torch.argmax(predictions[-1,:])])\n",
    "    predicted_ids = torch.cat((predicted_ids, predicted_id))\n",
    "\n",
    "print(\"Predicted Tokens :\\n\")\n",
    "for id in predicted_ids:\n",
    "    print(\"\\t\", id_to_token[id.item()])"
   ]
  },
  {
   "cell_type": "code",
   "execution_count": 13,
   "metadata": {},
   "outputs": [
    {
     "name": "stdout",
     "output_type": "stream",
     "text": [
      "Predicted Tokens :\n",
      "\n",
      "\t awesome\n",
      "\t <EOS>\n"
     ]
    }
   ],
   "source": [
    "model_input =  torch.tensor([token_to_id[\"statquest\"],\n",
    "                            token_to_id[\"is\"],\n",
    "                            token_to_id[\"what\"],\n",
    "                            token_to_id[\"<EOS>\"]])\n",
    "input_length = model_input.size(dim=0)\n",
    "\n",
    "predictions = model(model_input)\n",
    "predicted_id = torch.tensor([torch.argmax(predictions[-1,:])])\n",
    "predicted_ids = predicted_id\n",
    "\n",
    "max_length = 6 \n",
    "for i in range(input_length, max_length):\n",
    "    if (predicted_id == token_to_id[\"<EOS>\"]):\n",
    "        break\n",
    "    model_input = torch.cat((model_input, predicted_id))\n",
    "    \n",
    "    predictions = model(model_input)\n",
    "    predicted_id = torch.tensor([torch.argmax(predictions[-1,:])])\n",
    "    predicted_ids = torch.cat((predicted_ids, predicted_id))\n",
    "\n",
    "print(\"Predicted Tokens :\\n\")\n",
    "for id in predicted_ids:\n",
    "    print(\"\\t\", id_to_token[id.item()])"
   ]
  },
  {
   "cell_type": "code",
   "execution_count": null,
   "metadata": {},
   "outputs": [],
   "source": []
  }
 ],
 "metadata": {
  "kernelspec": {
   "display_name": ".venv",
   "language": "python",
   "name": "python3"
  },
  "language_info": {
   "codemirror_mode": {
    "name": "ipython",
    "version": 3
   },
   "file_extension": ".py",
   "mimetype": "text/x-python",
   "name": "python",
   "nbconvert_exporter": "python",
   "pygments_lexer": "ipython3",
   "version": "3.11.0"
  }
 },
 "nbformat": 4,
 "nbformat_minor": 2
}
