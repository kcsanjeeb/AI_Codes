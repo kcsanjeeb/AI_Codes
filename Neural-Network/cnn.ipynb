{
 "cells": [
  {
   "cell_type": "markdown",
   "metadata": {},
   "source": [
    "# CNN"
   ]
  },
  {
   "cell_type": "code",
   "execution_count": 73,
   "metadata": {},
   "outputs": [],
   "source": [
    "import torch \n",
    "import torch.nn as nn \n",
    "import torch.nn.functional as F\n",
    "from torch.utils.data import DataLoader\n",
    "from torchvision import datasets, transforms\n",
    "from torchvision.utils import make_grid\n",
    "\n",
    "import numpy as np \n",
    "import pandas as pd\n",
    "from sklearn.metrics import confusion_matrix \n",
    "import matplotlib.pyplot as plt \n",
    "%matplotlib inline"
   ]
  },
  {
   "cell_type": "code",
   "execution_count": 74,
   "metadata": {},
   "outputs": [],
   "source": [
    "# Convert mnist image files into tensor of 4 Dimentions ( No. of images, height, width, color channel )\n",
    "transform = transforms.ToTensor()"
   ]
  },
  {
   "cell_type": "markdown",
   "metadata": {},
   "source": [
    "### Training Set\n",
    "* Purpose: Used to train the model (adjust weights & biases via backpropagation).\n",
    "    * Size: Usually larger (e.g., 70-80% of total data).\n",
    "    * In MNIST: 60,000 handwritten digit images.\n",
    "* How it’s used:\n",
    "    * The model learns patterns from this data.\n",
    "    * The optimizer (e.g., SGD, Adam) updates weights to minimize loss (e.g., Cross-Entropy Loss).\n",
    "\n",
    "`train=True` means this is the training set."
   ]
  },
  {
   "cell_type": "code",
   "execution_count": 75,
   "metadata": {},
   "outputs": [],
   "source": [
    "# Train Data \n",
    "train_data = datasets.MNIST(root='./cnn_data', train=True, download=True, transform=transform)"
   ]
  },
  {
   "cell_type": "code",
   "execution_count": 76,
   "metadata": {},
   "outputs": [
    {
     "data": {
      "text/plain": [
       "Dataset MNIST\n",
       "    Number of datapoints: 60000\n",
       "    Root location: ./cnn_data\n",
       "    Split: Train\n",
       "    StandardTransform\n",
       "Transform: ToTensor()"
      ]
     },
     "execution_count": 76,
     "metadata": {},
     "output_type": "execute_result"
    }
   ],
   "source": [
    "train_data"
   ]
  },
  {
   "cell_type": "markdown",
   "metadata": {},
   "source": [
    "### Test Set\n",
    "* Purpose: Used to evaluate the model’s performance on unseen data.\n",
    "    * Size: Smaller (e.g., 20-30% of total data).\n",
    "    * In MNIST: 10,000 images.\n",
    "* How it’s used:\n",
    "    * After training, the model makes predictions on this set.\n",
    "    * No weight updates happen here (with torch.no_grad() in PyTorch).\n",
    "    * Metrics like accuracy, precision, and recall are computed.\n",
    "* Why Is This Important?\n",
    "    * The test set is used to evaluate the model’s predictions against the true answers.\n",
    "    * Without correct labels, we couldn’t measure accuracy, loss, or other metrics.\n",
    "\n",
    "`train=False` means this is the test set."
   ]
  },
  {
   "cell_type": "code",
   "execution_count": 77,
   "metadata": {},
   "outputs": [],
   "source": [
    "# Test Data\n",
    "test_data = datasets.MNIST(root='./cnn_data', train=False, download=True, transform=transform)"
   ]
  },
  {
   "cell_type": "code",
   "execution_count": 78,
   "metadata": {},
   "outputs": [
    {
     "data": {
      "text/plain": [
       "Dataset MNIST\n",
       "    Number of datapoints: 10000\n",
       "    Root location: ./cnn_data\n",
       "    Split: Test\n",
       "    StandardTransform\n",
       "Transform: ToTensor()"
      ]
     },
     "execution_count": 78,
     "metadata": {},
     "output_type": "execute_result"
    }
   ],
   "source": [
    "test_data"
   ]
  },
  {
   "cell_type": "code",
   "execution_count": 79,
   "metadata": {},
   "outputs": [
    {
     "name": "stdout",
     "output_type": "stream",
     "text": [
      "True Label: 2\n",
      "Image Shape: torch.Size([1, 28, 28])\n"
     ]
    }
   ],
   "source": [
    "# Get the first test example\n",
    "test_image, true_label = test_data[1]  \n",
    "print(\"True Label:\", true_label)  # e.g., \"2\"\n",
    "print(\"Image Shape:\",test_image.shape)\n",
    "#plt.imshow(test_image.squeeze(), cmap='gray')  # Display the image"
   ]
  },
  {
   "cell_type": "markdown",
   "metadata": {},
   "source": [
    "* MNIST images are 28×28 pixels and grayscale (no RGB colors).\n",
    "* PyTorch uses channels-first format ([channels, height, width]), unlike OpenCV (which uses [height, width, channels]).\n",
    "* `torch.Size([1, 28, 28])`\n",
    "    * This is a 3D tensor representing a single grayscale image from the MNIST dataset.\n",
    "    * The numbers describe:\n",
    "        * 1: Number of color channels (1 = grayscale, 3 = RGB).\n",
    "        * 28: Height of the image in pixels.\n",
    "        * 28: Width of the image in pixels."
   ]
  },
  {
   "cell_type": "code",
   "execution_count": 80,
   "metadata": {},
   "outputs": [],
   "source": [
    "# Create a small batch size for images ( suppose 10 )\n",
    "train_loader = DataLoader(train_data, batch_size=10, shuffle=True)\n",
    "test_loader = DataLoader(test_data, batch_size=10, shuffle=False)"
   ]
  },
  {
   "cell_type": "markdown",
   "metadata": {},
   "source": [
    "* `train_loader = DataLoader(train_data, batch_size=10, shuffle=True)`\n",
    "    * `train_data:` Your MNIST training dataset (60,000 images + labels).\n",
    "    * `batch_size=10:` Processes 10 images at a time (instead of all 60,000 at once).\n",
    "        * Why? → Saves memory, speeds up training, and helps gradient updates be more stable.\n",
    "    * `shuffle=True:` Randomizes the order of data in each epoch.\n",
    "        * Why? → Prevents the model from learning the sequence of data (improves generalization).\n",
    "    * The `train_loader` splits train_data into 6,000 batches (since 60,000 samples / 10 per batch = 6,000 batches).\n",
    "        * Each batch contains:\n",
    "            * Images tensor: Shape [10, 1, 28, 28] (batch_size, channels, height, width).\n",
    "            * Labels tensor: Shape [10] (the correct digit for each image).\n",
    "* `test_loader = DataLoader(test_data, batch_size=10, shuffle=False)`\n",
    "    * `test_data:` MNIST test dataset (10,000 images + labels).\n",
    "    * `batch_size=10:` Evaluates 10 images at a time (faster than one-by-one).\n",
    "    * `shuffle=False:` Keeps the original order of test data.\n",
    "        * Why? → Ensures consistent evaluation metrics (no randomness).\n",
    "    * The `test_loader` splits test_data into 1,000 batches (10,000 samples / 10 per batch).\n",
    "        * Used for validation with torch.no_grad() (no backpropagation).\n"
   ]
  },
  {
   "cell_type": "code",
   "execution_count": 81,
   "metadata": {},
   "outputs": [],
   "source": [
    "# Define our CNN Model \n",
    "# Describe convolutional layer and what it's doing ( 2 convolutional layers )\n",
    "conv1 = nn.Conv2d(1 , 6 , 3 ,1)\n",
    "conv2 = nn.Conv2d(6 , 16 , 3 , 1)"
   ]
  },
  {
   "cell_type": "markdown",
   "metadata": {},
   "source": [
    "1. **First Convolution Layer** `conv1 = nn.Conv2d(1, 6, 3, 1)`\n",
    "* Input: 1 channel (grayscale pixel values).\n",
    "* Output: 6 channels (feature maps).\n",
    "* What Happens:\n",
    "    * Six unique 3×3 filters slide over the input image.\n",
    "    * Each filter learns to detect different low-level features (like edges at various orientations).\n",
    "    * Example Filters Learned:\n",
    "        * Vertical edge detector\n",
    "        * Horizontal edge detector\n",
    "        * Diagonal edge detectors (45° and 135°)\n",
    "        * Blob detector\n",
    "        * Gradient transition detector\n",
    "\n",
    "2. **Second Convolution Layer** `(conv2 = nn.Conv2d(6, 16, 3, 1))`\n",
    "* Input: 6 channels (the edge-activated feature maps from conv1).\n",
    "* Output: 16 channels (higher-level features).\n",
    "* What Happens:\n",
    "    * Each of the 16 filters now has a kernel shape of [6, 3, 3] (6 input channels × 3×3 spatial size).\n",
    "    * These filters combine the 6 edge maps to detect mid-level shapes:\n",
    "    * Corners (intersection of horizontal + vertical edges)\n",
    "    * Curves (sequences of diagonal edges)\n",
    "    * Junctions (T-shapes, L-shapes) "
   ]
  },
  {
   "cell_type": "code",
   "execution_count": 82,
   "metadata": {},
   "outputs": [
    {
     "name": "stdout",
     "output_type": "stream",
     "text": [
      "1 ----> torch.Size([1, 6, 26, 26])\n",
      "2 ----> torch.Size([1, 6, 13, 13])\n",
      "3 ----> torch.Size([1, 16, 11, 11])\n",
      "4 ----> torch.Size([1, 16, 5, 5])\n"
     ]
    }
   ],
   "source": [
    "# Grab one MNIST record (image)\n",
    "for i, (X_Train, y_train) in enumerate(train_data):\n",
    "    break\n",
    "\n",
    "X_Train.shape\n",
    "x = X_Train.view(1,1,28,28)\n",
    "\n",
    "# First Convolutional Layer (conv1)\n",
    "x = F.relu(conv1(x))             # Rectified Linear Unit for activation function \n",
    "print(f'1 ----> {x.shape}')\n",
    "\n",
    "# First Max Pooling\n",
    "x = F.max_pool2d(x,2,2)         # Kernel of 2 and stride of 2 \n",
    "print(f'2 ----> {x.shape}')         # 26/12=13\n",
    "\n",
    "# Second Convolutional Layer (conv2)\n",
    "x = F.relu(conv2(x))\n",
    "print(f'3 ----> {x.shape}')\n",
    "\n",
    "# Second Max Pooling\n",
    "x = F.max_pool2d(x,2,2)\n",
    "print(f'4 ----> {x.shape}')         # 11/2 =5.5 (round up to 5)"
   ]
  },
  {
   "cell_type": "markdown",
   "metadata": {},
   "source": [
    "---"
   ]
  },
  {
   "cell_type": "markdown",
   "metadata": {},
   "source": [
    "### How 5×5 Feature Maps Are Created\n",
    "Your CNN transforms the input image step-by-step:\n",
    "* Input Image:\n",
    "    * Shape: [1, 28, 28] (1 channel, 28×28 pixels).\n",
    "* After First Convolution (conv1) + Pooling:\n",
    "    * conv1: Applies 6 filters → Output shape: [6, 26, 26].\n",
    "    * Max-pooling (2×2, stride=2): Downsamples to [6, 13, 13].\n",
    "* After Second Convolution (conv2) + Pooling:\n",
    "    * conv2: Applies 16 filters → Output shape: [16, 11, 11].\n",
    "    * Max-pooling (2×2, stride=2): Downsamples to [16, 5, 5].\n",
    "* Key Calculation:\n",
    "    * After second pooling: 11 / 2 = 5.5 → PyTorch floors to 5.\n",
    "    * Thus, final spatial size: 5×5."
   ]
  },
  {
   "cell_type": "code",
   "execution_count": 83,
   "metadata": {},
   "outputs": [],
   "source": [
    "# Model Class\n",
    "class ConvolutionalNetwork(nn.Module):\n",
    "    def __init__(self):\n",
    "        super().__init__()\n",
    "        \n",
    "        # Convolutional Layers\n",
    "        self.conv1 = nn.Conv2d(1,6,3,1)     # (input_channels, output_channels, kernel_size, stride)\n",
    "        self.conv2 = nn.Conv2d(6,16,3,1)    # (input_channels, output_channels, kernel_size, stride)\n",
    "        \n",
    "        # Fully Connected (Dense) Layers\n",
    "        self.fc1 = nn.Linear(5*5*16, 120)   # In Features : 16 channels × 5 height × 5 width = 400 values per image.\n",
    "        self.fc2 = nn.Linear(120, 84)\n",
    "        self.fc3 = nn.Linear(84,10)\n",
    "        \n",
    "    def forward(self,X):\n",
    "        X = F.relu(self.conv1(X))\n",
    "        X = F.max_pool2d(X,2,2)         # 2*2 Kernal , Stride 2\n",
    "        # Second pass\n",
    "        X = F.relu(self.conv2(X))\n",
    "        X = F.max_pool2d(X,2,2)         # 2*2 Kernal , Stride 2       \n",
    "        # Re-view to flatten it out \n",
    "        X = X.view(-1,16*5*5)           # Negative one so that we can vary the batch size \n",
    "        # Fully Connected Layers \n",
    "        X = F.relu(self.fc1(X))\n",
    "        X = F.relu(self.fc2(X))\n",
    "        X = self.fc3(X)\n",
    "        return F.log_softmax(X, dim=1)\n",
    "    "
   ]
  },
  {
   "cell_type": "markdown",
   "metadata": {},
   "source": [
    "### Fully Connected Dense Layers\n",
    "* fc1: Takes flattened conv output (16 channels × 5×5 spatial dims) → 120 units\n",
    "    * **In-Features**\n",
    "        * 16*5*5 flattens the 3D feature maps into 1D for dense layers.\n",
    "        * 16: Number of learned filters (each detects unique patterns).\n",
    "        * 5×5: Spatial compression from pooling (original 28×28 → 5×5).\n",
    "    * **Out-Features**\n",
    "        * In practice, you can treat 120 as a hyperparameter and tune it for your specific dataset, but for MNIST, it’s a reliable default.\n",
    "            * 120 is a empirically validated choice for MNIST-scale problems.\n",
    "            * It balances model capacity and computational efficiency.\n",
    "            * The reduction 400 → 120 → 84 → 10 ensures smooth feature compression.\n",
    "* fc2: 120 units → 84 units\n",
    "* fc3: 84 units → 10 outputs (one per MNIST digit class)"
   ]
  },
  {
   "cell_type": "code",
   "execution_count": 84,
   "metadata": {},
   "outputs": [
    {
     "data": {
      "text/plain": [
       "ConvolutionalNetwork(\n",
       "  (conv1): Conv2d(1, 6, kernel_size=(3, 3), stride=(1, 1))\n",
       "  (conv2): Conv2d(6, 16, kernel_size=(3, 3), stride=(1, 1))\n",
       "  (fc1): Linear(in_features=400, out_features=120, bias=True)\n",
       "  (fc2): Linear(in_features=120, out_features=84, bias=True)\n",
       "  (fc3): Linear(in_features=84, out_features=10, bias=True)\n",
       ")"
      ]
     },
     "execution_count": 84,
     "metadata": {},
     "output_type": "execute_result"
    }
   ],
   "source": [
    "torch.manual_seed(41)\n",
    "model = ConvolutionalNetwork()  # Creates an instance of your custom CNN class\n",
    "model"
   ]
  },
  {
   "cell_type": "markdown",
   "metadata": {},
   "source": [
    "* `torch.manual_seed(41)`\n",
    "    * Sets PyTorch's random number generator seed to 41\n",
    "    * Ensures reproducibility by making random operations deterministic:\n",
    "        * Weight initialization in your CNN layers\n",
    "        * Data shuffling in DataLoader\n",
    "        * Dropout patterns (if used)\n",
    "    * Critical for debugging and comparing results across runs"
   ]
  },
  {
   "cell_type": "code",
   "execution_count": 85,
   "metadata": {},
   "outputs": [],
   "source": [
    "criterion = nn.CrossEntropyLoss()                               # Loss Function\n",
    "optimizer = torch.optim.Adam(model.parameters(), lr=0.0001)      # Optimizer"
   ]
  },
  {
   "cell_type": "markdown",
   "metadata": {},
   "source": [
    "1. **Loss Function** `criterion = nn.CrossEntropyLoss()`\n",
    "    * Purpose: Measures how far the model's predictions are from the true labels\n",
    "    * What it does:   \n",
    "        * Computes the cross-entropy loss between predicted class probabilities and true labels\n",
    "        * Automatically applies softmax to model outputs (so your model shouldn't output softmax probabilities). The purpose of Softmax function is to adjust the outputs of a convolutional neural network (CNN) so that they sum to 1\n",
    "        * Perfect predictions → loss near 0, bad predictions → higher loss\n",
    "2. **Optimizer** `optimizer = torch.optim.Adam(model.parameters(), lr=0.001)`\n",
    "    * Purpose: Updates the model's weights to minimize the loss\n",
    "    * **Adam Optimizer:**\n",
    "        * Combines benefits of two other optimization methods (Momentum + RMSprop)\n",
    "        * Automatically adjusts learning rates for each parameter\n",
    "        * Good default choice for many deep learning tasks\n",
    "    * Key Parameters:\n",
    "        * model.parameters(): All trainable weights/biases in your network\n",
    "        * lr=0.001: Learning rate (step size for weight updates) - common starting value"
   ]
  },
  {
   "cell_type": "code",
   "execution_count": 86,
   "metadata": {},
   "outputs": [
    {
     "name": "stdout",
     "output_type": "stream",
     "text": [
      "Epoch: 0  Batch: 600  Loss: 0.9863\n",
      "Epoch: 0  Batch: 1200  Loss: 0.4943\n",
      "Epoch: 0  Batch: 1800  Loss: 0.7394\n",
      "Epoch: 0  Batch: 2400  Loss: 0.7618\n",
      "Epoch: 0  Batch: 3000  Loss: 0.1825\n",
      "Epoch: 0  Batch: 3600  Loss: 0.3429\n",
      "Epoch: 0  Batch: 4200  Loss: 0.0989\n",
      "Epoch: 0  Batch: 4800  Loss: 0.1582\n",
      "Epoch: 0  Batch: 5400  Loss: 0.2032\n",
      "Epoch: 0  Batch: 6000  Loss: 0.0380\n",
      "Epoch 0: Train Loss: 0.5102, Acc: 84.72% | Test Loss: 0.2287, Acc: 93.37%\n",
      "Epoch: 1  Batch: 600  Loss: 0.0174\n",
      "Epoch: 1  Batch: 1200  Loss: 0.5581\n",
      "Epoch: 1  Batch: 1800  Loss: 0.0769\n",
      "Epoch: 1  Batch: 2400  Loss: 0.1098\n",
      "Epoch: 1  Batch: 3000  Loss: 0.3039\n",
      "Epoch: 1  Batch: 3600  Loss: 0.3141\n",
      "Epoch: 1  Batch: 4200  Loss: 0.2243\n",
      "Epoch: 1  Batch: 4800  Loss: 0.0077\n",
      "Epoch: 1  Batch: 5400  Loss: 0.0125\n",
      "Epoch: 1  Batch: 6000  Loss: 0.3291\n",
      "Epoch 1: Train Loss: 0.1803, Acc: 94.60% | Test Loss: 0.1236, Acc: 96.23%\n",
      "Epoch: 2  Batch: 600  Loss: 0.1914\n",
      "Epoch: 2  Batch: 1200  Loss: 0.0469\n",
      "Epoch: 2  Batch: 1800  Loss: 0.0150\n",
      "Epoch: 2  Batch: 2400  Loss: 0.1784\n",
      "Epoch: 2  Batch: 3000  Loss: 0.3768\n",
      "Epoch: 2  Batch: 3600  Loss: 0.1177\n",
      "Epoch: 2  Batch: 4200  Loss: 0.0451\n",
      "Epoch: 2  Batch: 4800  Loss: 0.0270\n",
      "Epoch: 2  Batch: 5400  Loss: 0.0320\n",
      "Epoch: 2  Batch: 6000  Loss: 0.4103\n",
      "Epoch 2: Train Loss: 0.1213, Acc: 96.19% | Test Loss: 0.0970, Acc: 96.88%\n",
      "Epoch: 3  Batch: 600  Loss: 0.0292\n",
      "Epoch: 3  Batch: 1200  Loss: 0.1116\n",
      "Epoch: 3  Batch: 1800  Loss: 0.0101\n",
      "Epoch: 3  Batch: 2400  Loss: 0.0050\n",
      "Epoch: 3  Batch: 3000  Loss: 0.0403\n",
      "Epoch: 3  Batch: 3600  Loss: 0.0714\n",
      "Epoch: 3  Batch: 4200  Loss: 0.0758\n",
      "Epoch: 3  Batch: 4800  Loss: 0.0034\n",
      "Epoch: 3  Batch: 5400  Loss: 0.0163\n",
      "Epoch: 3  Batch: 6000  Loss: 0.1479\n",
      "Epoch 3: Train Loss: 0.0968, Acc: 96.95% | Test Loss: 0.0860, Acc: 97.24%\n",
      "Epoch: 4  Batch: 600  Loss: 0.0533\n",
      "Epoch: 4  Batch: 1200  Loss: 0.1667\n",
      "Epoch: 4  Batch: 1800  Loss: 0.1596\n",
      "Epoch: 4  Batch: 2400  Loss: 0.0013\n",
      "Epoch: 4  Batch: 3000  Loss: 0.0797\n",
      "Epoch: 4  Batch: 3600  Loss: 0.0501\n",
      "Epoch: 4  Batch: 4200  Loss: 0.2365\n",
      "Epoch: 4  Batch: 4800  Loss: 0.0123\n",
      "Epoch: 4  Batch: 5400  Loss: 0.2015\n",
      "Epoch: 4  Batch: 6000  Loss: 0.0089\n",
      "Epoch 4: Train Loss: 0.0809, Acc: 97.42% | Test Loss: 0.0707, Acc: 97.59%\n",
      "Total Training Time: 0.75 minutes\n"
     ]
    }
   ],
   "source": [
    "import time\n",
    "start_time = time.time()\n",
    "\n",
    "epochs = 5\n",
    "train_losses = []\n",
    "test_losses = []\n",
    "train_acc = []\n",
    "test_acc = []\n",
    "\n",
    "for epoch in range(epochs):\n",
    "    # ##########################################  TRAINING  ##########################################\n",
    "    model.train()\n",
    "    # Initializing Tracking Variables\n",
    "    running_loss = 0.0                                      # Accumulates loss values across all batches\n",
    "    correct = 0                                             # Counts how many predictions match true labels\n",
    "    total = 0                                               # Counts total number of processed samples\n",
    "    \n",
    "    for batch_idx, (X_train, y_train) in enumerate(train_loader, 1):\n",
    "        optimizer.zero_grad()                               # Clears old gradients (avoids accumulation)\n",
    "        outputs = model(X_train)                            # Forward Pass: Computes predictions (outputs)\n",
    "        loss = criterion(outputs, y_train)                  # Loss Calculation: Measures error between predictions and true labels\n",
    "        loss.backward()                                     # Backward Pass: Computes gradients of loss w.r.t. all parameters\n",
    "        optimizer.step()                                    # Optimizer Step: Updates model weights using gradients\n",
    "        \n",
    "        _, predicted = torch.max(outputs.data, 1)           # Gets predicted class indices (argmax)\n",
    "        correct += (predicted == y_train).sum().item()      # counts correct predictions, .item() converts tensor to Python number\n",
    "        total += y_train.size(0)\n",
    "        running_loss += loss.item() * y_train.size(0)  # Weight by batch size\n",
    "        \n",
    "        if batch_idx % 600 == 0:\n",
    "            print(f'Epoch: {epoch}  Batch: {batch_idx}  Loss: {loss.item():.4f}')\n",
    "    \n",
    "    train_loss = running_loss / len(train_loader.dataset)  # Average over SAMPLES\n",
    "    train_accuracy = 100 * correct/total\n",
    "    train_losses.append(train_loss)\n",
    "    train_acc.append(train_accuracy)\n",
    "    \n",
    "    # ##########################################  TESTING  ##########################################\n",
    "    \n",
    "    # Setting Evaluation Mode : Disables dropout and batch normalization layers , Equivalent to model.train(False)\n",
    "    model.eval()\n",
    "    \n",
    "    # Initializing Test Metrics\n",
    "    test_loss = 0.0                                         # Accumulates loss across all test batches\n",
    "    correct = 0                                             # Counts correctly classified images \n",
    "    total = 0                                               # Tracks total test images processed\n",
    "    \n",
    "    # Disabling Gradient Calculation : Speeds up computation by skipping gradient tracking\n",
    "    with torch.no_grad():\n",
    "        for X_test, y_test in test_loader:\n",
    "            outputs = model(X_test)                         # Forward Pass: Computes predictions (outputs) for test batch\n",
    "            loss = criterion(outputs, y_test)               # Loss Calculation: Measures prediction error\n",
    "            test_loss += loss.item()                        # Loss Accumulation: Adds batch loss to running total\n",
    "            # Accuracy Calculation\n",
    "            _, predicted = torch.max(outputs.data, 1)       # torch.max(): Gets predicted class indices (argmax of logits)\n",
    "            correct += (predicted == y_test).sum().item()   # Correct Predictions: Counts matches between predictions and true labels\n",
    "            total += y_test.size(0)                         # Total Images: Tracks number of images processed (y_test.size(0) gives batch size)\n",
    "    \n",
    "    # Final Metrics Calculation\n",
    "    test_loss = test_loss/len(test_loader)                  # Average Test Loss: Total loss divided by number of batches\n",
    "    test_accuracy = 100 * correct/total                     # Test Accuracy: Percentage of correct predictions\n",
    "    # Storing Results\n",
    "    test_losses.append(test_loss)\n",
    "    test_acc.append(test_accuracy)\n",
    "    # Printing Report\n",
    "    print(f'Epoch {epoch}: '\n",
    "          f'Train Loss: {train_loss:.4f}, Acc: {train_accuracy:.2f}% | '\n",
    "          f'Test Loss: {test_loss:.4f}, Acc: {test_accuracy:.2f}%')\n",
    "\n",
    "total_time = (time.time() - start_time)/60\n",
    "print(f'Total Training Time: {total_time:.2f} minutes')"
   ]
  },
  {
   "cell_type": "code",
   "execution_count": 87,
   "metadata": {},
   "outputs": [
    {
     "data": {
      "image/png": "[encoded data removed]",
      "text/plain": [
       "<Figure size 640x480 with 1 Axes>"
      ]
     },
     "metadata": {},
     "output_type": "display_data"
    }
   ],
   "source": [
    "# Graph the training and test loss across epochs\n",
    "plt.plot(train_losses, label='Training Loss', color='blue', marker='o')\n",
    "plt.plot(test_losses, label='Test Loss', color='red', marker='x')\n",
    "plt.title('Training & Test Loss Across Epochs')\n",
    "plt.xlabel('Epoch')\n",
    "plt.ylabel('Loss')\n",
    "plt.xticks(range(len(train_losses)), range(1, len(train_losses)+1))  # Epoch numbering starts at 1\n",
    "plt.legend()\n",
    "plt.grid(True)\n",
    "plt.show()"
   ]
  },
  {
   "cell_type": "markdown",
   "metadata": {},
   "source": [
    "Your training results now show healthy, realistic learning behavior for MNIST classification. Here's a detailed analysis and interpretation:\n",
    "* Proper Loss Dynamics:\n",
    "    * Initial loss starts high (~0.98) and decreases gradually\n",
    "    * No more \"0.0000\" loss values indicating numerical instability\n",
    "* Reasonable Accuracy Progression:\n",
    "    * Train accuracy grows steadily: 84.7% → 97.4%\n",
    "    * Test accuracy follows closely: 93.4% → 97.6%\n",
    "* Appropriate Generalization Gap:\n",
    "    * Final epoch: Train 97.4% vs Test 97.6% (excellent alignment)\n",
    "    * Shows the model isn't overfitting"
   ]
  },
  {
   "cell_type": "code",
   "execution_count": 92,
   "metadata": {},
   "outputs": [
    {
     "data": {
      "image/png": "[encoded data removed]",
      "text/plain": [
       "<Figure size 1200x400 with 2 Axes>"
      ]
     },
     "metadata": {},
     "output_type": "display_data"
    }
   ],
   "source": [
    "import matplotlib.pyplot as plt\n",
    "\n",
    "plt.figure(figsize=(12, 4))\n",
    "\n",
    "# Loss plot\n",
    "plt.subplot(1, 2, 1)\n",
    "plt.plot(train_losses, label='Train Loss', marker='o')\n",
    "plt.plot(test_losses, label='Test Loss', marker='x')\n",
    "plt.xlabel('Epoch')\n",
    "plt.ylabel('Loss')\n",
    "plt.legend()\n",
    "\n",
    "# Accuracy plot\n",
    "plt.subplot(1, 2, 2)\n",
    "plt.plot(train_acc, label='Train Acc', marker='o')\n",
    "plt.plot(test_acc, label='Test Acc', marker='x')\n",
    "plt.xlabel('Epoch')\n",
    "plt.ylabel('Accuracy (%)')\n",
    "plt.legend()\n",
    "\n",
    "plt.tight_layout()\n",
    "plt.show()"
   ]
  },
  {
   "cell_type": "markdown",
   "metadata": {},
   "source": [
    "Loss: Both curves decrease and stabilize.\n",
    "\n",
    "Accuracy: Both curves increase and converge."
   ]
  },
  {
   "cell_type": "code",
   "execution_count": 101,
   "metadata": {},
   "outputs": [
    {
     "data": {
      "text/plain": [
       "(tensor([[[0.0000, 0.0000, 0.0000, 0.0000, 0.0000, 0.0000, 0.0000, 0.0000,\n",
       "           0.0000, 0.0000, 0.0000, 0.0000, 0.0000, 0.0000, 0.0000, 0.0000,\n",
       "           0.0000, 0.0000, 0.0000, 0.0000, 0.0000, 0.0000, 0.0000, 0.0000,\n",
       "           0.0000, 0.0000, 0.0000, 0.0000],\n",
       "          [0.0000, 0.0000, 0.0000, 0.0000, 0.0000, 0.0000, 0.0000, 0.0000,\n",
       "           0.0000, 0.0000, 0.0000, 0.0000, 0.0000, 0.0000, 0.0000, 0.0000,\n",
       "           0.0000, 0.0000, 0.0000, 0.0000, 0.0000, 0.0000, 0.0000, 0.0000,\n",
       "           0.0000, 0.0000, 0.0000, 0.0000],\n",
       "          [0.0000, 0.0000, 0.0000, 0.0000, 0.0000, 0.0000, 0.0000, 0.0000,\n",
       "           0.0000, 0.0000, 0.0000, 0.0000, 0.0000, 0.0000, 0.0000, 0.0000,\n",
       "           0.0000, 0.0000, 0.0000, 0.0000, 0.0000, 0.0000, 0.0000, 0.0000,\n",
       "           0.0000, 0.0000, 0.0000, 0.0000],\n",
       "          [0.0000, 0.0000, 0.0000, 0.0000, 0.0000, 0.0000, 0.0000, 0.0000,\n",
       "           0.0000, 0.0000, 0.0000, 0.0000, 0.0000, 0.0000, 0.0000, 0.0000,\n",
       "           0.0000, 0.0000, 0.0000, 0.0000, 0.0000, 0.0000, 0.0000, 0.0000,\n",
       "           0.0000, 0.0000, 0.0000, 0.0000],\n",
       "          [0.0000, 0.0000, 0.0000, 0.0000, 0.0000, 0.0000, 0.0000, 0.0000,\n",
       "           0.0000, 0.0000, 0.0000, 0.0000, 0.0000, 0.0000, 0.0000, 0.0000,\n",
       "           0.0000, 0.0000, 0.0000, 0.0000, 0.0000, 0.0000, 0.0000, 0.0000,\n",
       "           0.0000, 0.0000, 0.0000, 0.0000],\n",
       "          [0.0000, 0.0000, 0.0000, 0.0000, 0.0000, 0.0000, 0.0000, 0.0000,\n",
       "           0.0000, 0.0000, 0.0000, 0.0000, 0.0000, 0.0000, 0.0000, 0.1451,\n",
       "           0.4157, 0.5373, 0.5843, 0.0000, 0.0000, 0.0000, 0.0000, 0.0000,\n",
       "           0.0000, 0.0000, 0.0000, 0.0000],\n",
       "          [0.0000, 0.0000, 0.0000, 0.0000, 0.0000, 0.0000, 0.0000, 0.0000,\n",
       "           0.0000, 0.0000, 0.0000, 0.0000, 0.0000, 0.0000, 0.0000, 0.5020,\n",
       "           0.9922, 0.9922, 0.7098, 0.0000, 0.0000, 0.0000, 0.0000, 0.0000,\n",
       "           0.0000, 0.0000, 0.0000, 0.0000],\n",
       "          [0.0000, 0.0000, 0.0000, 0.0000, 0.0000, 0.0000, 0.0000, 0.0000,\n",
       "           0.0000, 0.0000, 0.0000, 0.0000, 0.0000, 0.0000, 0.0314, 0.5686,\n",
       "           0.9922, 0.9922, 0.6588, 0.0000, 0.0000, 0.0000, 0.0000, 0.0000,\n",
       "           0.0000, 0.0000, 0.0000, 0.0000],\n",
       "          [0.0000, 0.0000, 0.0000, 0.0000, 0.0000, 0.0000, 0.0000, 0.0000,\n",
       "           0.0000, 0.0000, 0.0000, 0.0000, 0.0000, 0.0235, 0.5216, 0.9922,\n",
       "           0.9922, 0.8627, 0.0784, 0.0000, 0.0000, 0.0000, 0.0000, 0.0000,\n",
       "           0.0000, 0.0000, 0.0000, 0.0000],\n",
       "          [0.0000, 0.0000, 0.0000, 0.0000, 0.0000, 0.0000, 0.0000, 0.0000,\n",
       "           0.0000, 0.0000, 0.0000, 0.0000, 0.0000, 0.6667, 0.9922, 0.9922,\n",
       "           0.9922, 0.9922, 0.0000, 0.0000, 0.0000, 0.0000, 0.0000, 0.0000,\n",
       "           0.0000, 0.0000, 0.0000, 0.0000],\n",
       "          [0.0000, 0.0000, 0.0000, 0.0000, 0.0000, 0.0000, 0.0000, 0.0000,\n",
       "           0.0000, 0.0000, 0.0000, 0.1490, 0.8941, 1.0000, 0.9961, 0.9961,\n",
       "           0.9961, 0.7647, 0.0000, 0.0000, 0.0000, 0.0000, 0.0000, 0.0000,\n",
       "           0.0000, 0.0000, 0.0000, 0.0000],\n",
       "          [0.0000, 0.0000, 0.0000, 0.0000, 0.0000, 0.0000, 0.0000, 0.0000,\n",
       "           0.0000, 0.0000, 0.3647, 0.8784, 0.9922, 0.9961, 0.7922, 0.4745,\n",
       "           0.9451, 0.8392, 0.0784, 0.0000, 0.0000, 0.0000, 0.0000, 0.0000,\n",
       "           0.0000, 0.0000, 0.0000, 0.0000],\n",
       "          [0.0000, 0.0000, 0.0000, 0.0000, 0.0000, 0.0000, 0.0000, 0.0000,\n",
       "           0.0941, 0.5490, 0.9725, 0.9922, 0.8118, 0.3961, 0.0627, 0.0745,\n",
       "           0.8863, 0.9922, 0.1804, 0.0000, 0.0000, 0.0000, 0.0000, 0.0000,\n",
       "           0.0000, 0.0000, 0.0000, 0.0000],\n",
       "          [0.0000, 0.0000, 0.0000, 0.0000, 0.0000, 0.0000, 0.0000, 0.1804,\n",
       "           0.9176, 0.9922, 0.9922, 0.9922, 0.5333, 0.2000, 0.0745, 0.3333,\n",
       "           0.9922, 0.9922, 0.3098, 0.0000, 0.0000, 0.0000, 0.0000, 0.0000,\n",
       "           0.0000, 0.0000, 0.0000, 0.0000],\n",
       "          [0.0000, 0.0000, 0.0000, 0.0000, 0.0000, 0.0000, 0.0549, 0.9098,\n",
       "           0.9961, 0.9922, 0.9922, 0.9922, 0.9922, 0.9961, 0.9922, 0.9922,\n",
       "           0.9922, 0.9922, 0.5804, 0.0000, 0.0000, 0.0000, 0.0000, 0.0000,\n",
       "           0.0000, 0.0000, 0.0000, 0.0000],\n",
       "          [0.0000, 0.0000, 0.0000, 0.0000, 0.0000, 0.0000, 0.0549, 0.9137,\n",
       "           1.0000, 0.9961, 0.9961, 0.9961, 0.9961, 1.0000, 0.9961, 0.9961,\n",
       "           0.9961, 0.9961, 0.3608, 0.0000, 0.0000, 0.0000, 0.0000, 0.0000,\n",
       "           0.0000, 0.0000, 0.0000, 0.0000],\n",
       "          [0.0000, 0.0000, 0.0000, 0.0000, 0.0000, 0.0000, 0.0000, 0.1765,\n",
       "           0.5255, 0.3725, 0.3765, 0.1686, 0.4235, 0.4275, 0.2196, 0.5804,\n",
       "           0.9922, 0.9922, 0.2824, 0.0000, 0.0000, 0.0000, 0.0000, 0.0000,\n",
       "           0.0000, 0.0000, 0.0000, 0.0000],\n",
       "          [0.0000, 0.0000, 0.0000, 0.0000, 0.0000, 0.0000, 0.0000, 0.0000,\n",
       "           0.0000, 0.0000, 0.0000, 0.0000, 0.0000, 0.0000, 0.0000, 0.0745,\n",
       "           0.8863, 0.9922, 0.0549, 0.0000, 0.0000, 0.0000, 0.0000, 0.0000,\n",
       "           0.0000, 0.0000, 0.0000, 0.0000],\n",
       "          [0.0000, 0.0000, 0.0000, 0.0000, 0.0000, 0.0000, 0.0000, 0.0000,\n",
       "           0.0000, 0.0000, 0.0000, 0.0000, 0.0000, 0.0000, 0.0000, 0.0000,\n",
       "           0.5020, 0.9922, 0.6078, 0.0000, 0.0000, 0.0000, 0.0000, 0.0000,\n",
       "           0.0000, 0.0000, 0.0000, 0.0000],\n",
       "          [0.0000, 0.0000, 0.0000, 0.0000, 0.0000, 0.0000, 0.0000, 0.0000,\n",
       "           0.0000, 0.0000, 0.0000, 0.0000, 0.0000, 0.0000, 0.0000, 0.0000,\n",
       "           0.4275, 0.9922, 0.3569, 0.0000, 0.0000, 0.0000, 0.0000, 0.0000,\n",
       "           0.0000, 0.0000, 0.0000, 0.0000],\n",
       "          [0.0000, 0.0000, 0.0000, 0.0000, 0.0000, 0.0000, 0.0000, 0.0000,\n",
       "           0.0000, 0.0000, 0.0000, 0.0000, 0.0000, 0.0000, 0.0000, 0.0000,\n",
       "           0.4314, 0.9961, 0.7137, 0.0000, 0.0000, 0.0000, 0.0000, 0.0000,\n",
       "           0.0000, 0.0000, 0.0000, 0.0000],\n",
       "          [0.0000, 0.0000, 0.0000, 0.0000, 0.0000, 0.0000, 0.0000, 0.0000,\n",
       "           0.0000, 0.0000, 0.0000, 0.0000, 0.0000, 0.0000, 0.0000, 0.0000,\n",
       "           0.2235, 0.9922, 0.9765, 0.0667, 0.0000, 0.0000, 0.0000, 0.0000,\n",
       "           0.0000, 0.0000, 0.0000, 0.0000],\n",
       "          [0.0000, 0.0000, 0.0000, 0.0000, 0.0000, 0.0000, 0.0000, 0.0000,\n",
       "           0.0000, 0.0000, 0.0000, 0.0000, 0.0000, 0.0000, 0.0000, 0.0000,\n",
       "           0.2510, 0.9922, 0.9961, 0.0706, 0.0000, 0.0000, 0.0000, 0.0000,\n",
       "           0.0000, 0.0000, 0.0000, 0.0000],\n",
       "          [0.0000, 0.0000, 0.0000, 0.0000, 0.0000, 0.0000, 0.0000, 0.0000,\n",
       "           0.0000, 0.0000, 0.0000, 0.0000, 0.0000, 0.0000, 0.0000, 0.0000,\n",
       "           0.1490, 0.9922, 0.9961, 0.0706, 0.0000, 0.0000, 0.0000, 0.0000,\n",
       "           0.0000, 0.0000, 0.0000, 0.0000],\n",
       "          [0.0000, 0.0000, 0.0000, 0.0000, 0.0000, 0.0000, 0.0000, 0.0000,\n",
       "           0.0000, 0.0000, 0.0000, 0.0000, 0.0000, 0.0000, 0.0000, 0.0000,\n",
       "           0.0471, 0.8902, 0.6392, 0.0471, 0.0000, 0.0000, 0.0000, 0.0000,\n",
       "           0.0000, 0.0000, 0.0000, 0.0000],\n",
       "          [0.0000, 0.0000, 0.0000, 0.0000, 0.0000, 0.0000, 0.0000, 0.0000,\n",
       "           0.0000, 0.0000, 0.0000, 0.0000, 0.0000, 0.0000, 0.0000, 0.0000,\n",
       "           0.0000, 0.0000, 0.0000, 0.0000, 0.0000, 0.0000, 0.0000, 0.0000,\n",
       "           0.0000, 0.0000, 0.0000, 0.0000],\n",
       "          [0.0000, 0.0000, 0.0000, 0.0000, 0.0000, 0.0000, 0.0000, 0.0000,\n",
       "           0.0000, 0.0000, 0.0000, 0.0000, 0.0000, 0.0000, 0.0000, 0.0000,\n",
       "           0.0000, 0.0000, 0.0000, 0.0000, 0.0000, 0.0000, 0.0000, 0.0000,\n",
       "           0.0000, 0.0000, 0.0000, 0.0000],\n",
       "          [0.0000, 0.0000, 0.0000, 0.0000, 0.0000, 0.0000, 0.0000, 0.0000,\n",
       "           0.0000, 0.0000, 0.0000, 0.0000, 0.0000, 0.0000, 0.0000, 0.0000,\n",
       "           0.0000, 0.0000, 0.0000, 0.0000, 0.0000, 0.0000, 0.0000, 0.0000,\n",
       "           0.0000, 0.0000, 0.0000, 0.0000]]]),\n",
       " 4)"
      ]
     },
     "execution_count": 101,
     "metadata": {},
     "output_type": "execute_result"
    }
   ],
   "source": [
    "test_data[4221]"
   ]
  },
  {
   "cell_type": "code",
   "execution_count": 102,
   "metadata": {},
   "outputs": [
    {
     "data": {
      "text/plain": [
       "<matplotlib.image.AxesImage at 0x16a020410>"
      ]
     },
     "execution_count": 102,
     "metadata": {},
     "output_type": "execute_result"
    },
    {
     "data": {
      "image/png": "[encoded data removed]",
      "text/plain": [
       "<Figure size 640x480 with 1 Axes>"
      ]
     },
     "metadata": {},
     "output_type": "display_data"
    }
   ],
   "source": [
    "# Grab just the data and reshape it, and show the image\n",
    "plt.imshow(test_data[4221][0].reshape(28,28)) "
   ]
  },
  {
   "cell_type": "code",
   "execution_count": 105,
   "metadata": {},
   "outputs": [],
   "source": [
    "# Pass the image through our model \n",
    "model.eval()\n",
    "with torch.no_grad():\n",
    "    new_prediction = model(test_data[4221][0].view(1,1,28,28))       # Batch size of 1 , 1 color channel , 28*28 image"
   ]
  },
  {
   "cell_type": "code",
   "execution_count": 106,
   "metadata": {},
   "outputs": [
    {
     "data": {
      "text/plain": [
       "tensor([[-2.0880e+01, -1.1725e+01, -1.0849e+01, -9.9283e+00, -7.1917e-04,\n",
       "         -9.6113e+00, -2.0323e+01, -1.0270e+01, -1.4203e+01, -7.5235e+00]])"
      ]
     },
     "execution_count": 106,
     "metadata": {},
     "output_type": "execute_result"
    }
   ],
   "source": [
    "# New prediction \n",
    "new_prediction"
   ]
  },
  {
   "cell_type": "code",
   "execution_count": 107,
   "metadata": {},
   "outputs": [
    {
     "data": {
      "text/plain": [
       "tensor(4)"
      ]
     },
     "execution_count": 107,
     "metadata": {},
     "output_type": "execute_result"
    }
   ],
   "source": [
    "new_prediction.argmax()"
   ]
  }
 ],
 "metadata": {
  "kernelspec": {
   "display_name": ".venv",
   "language": "python",
   "name": "python3"
  },
  "language_info": {
   "codemirror_mode": {
    "name": "ipython",
    "version": 3
   },
   "file_extension": ".py",
   "mimetype": "text/x-python",
   "name": "python",
   "nbconvert_exporter": "python",
   "pygments_lexer": "ipython3",
   "version": "3.11.0"
  }
 },
 "nbformat": 4,
 "nbformat_minor": 2
}
