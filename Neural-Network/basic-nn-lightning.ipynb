{
 "cells": [
  {
   "cell_type": "markdown",
   "metadata": {},
   "source": [
    "## Basic Neural Network with PyTorch Lightning\n",
    "This notebook demonstrates a neural network implementation using PyTorch and PyTorch Lightning, with a focus on learning rate tuning and parameter optimization. Here's what's happening:"
   ]
  },
  {
   "cell_type": "code",
   "execution_count": 35,
   "metadata": {},
   "outputs": [],
   "source": [
    "import torch\n",
    "import torch.nn as nn\n",
    "import torch.nn.functional as F \n",
    "from torch.optim import SGD \n",
    "import matplotlib.pyplot as plt \n",
    "import seaborn as sns "
   ]
  },
  {
   "cell_type": "code",
   "execution_count": 36,
   "metadata": {},
   "outputs": [],
   "source": [
    "import lightning as L\n",
    "from torch.utils.data import TensorDataset, DataLoader\n",
    "from lightning.pytorch.tuner import Tuner\n"
   ]
  },
  {
   "cell_type": "markdown",
   "metadata": {},
   "source": [
    "### 1. Basic Neural Network Implementation\n",
    "The notebook starts with a BasicLightning class that implements a custom neural network with:\n",
    "* Two parallel ReLU-activated pathways (top and bottom)\n",
    "* Fixed weights and biases (non-trainable parameters)\n",
    "* A final ReLU activation\n",
    "* The network models a dose-response relationship that first increases then decreases\n",
    "The code generates a plot showing the network's output for input doses ranging from 0 to 1, demonstrating a \"hump-shaped\" dose-response curve."
   ]
  },
  {
   "cell_type": "code",
   "execution_count": 37,
   "metadata": {},
   "outputs": [],
   "source": [
    "class BasicLightning(nn.Module): \n",
    "    def __init__(self):\n",
    "        super().__init__()\n",
    "        self.w00 = nn.Parameter(torch.tensor(1.7), requires_grad=False)\n",
    "        self.b00 = nn.Parameter(torch.tensor(-0.85), requires_grad=False)\n",
    "        self.w01 = nn.Parameter(torch.tensor(-40.8), requires_grad=False)\n",
    "        \n",
    "        self.w10 = nn.Parameter(torch.tensor(12.6), requires_grad=False)\n",
    "        self.b10 = nn.Parameter(torch.tensor(0.0), requires_grad=False)\n",
    "        self.w11 = nn.Parameter(torch.tensor(2.7), requires_grad=False)\n",
    "        \n",
    "        self.final_bias = nn.Parameter(torch.tensor(-16., requires_grad=False))\n",
    "    \n",
    "    def forward(self, input):\n",
    "        input_to_top_relu = input * self.w00 + self.b00 \n",
    "        top_relu_output = F.relu(input_to_top_relu)\n",
    "        scaled_top_relu_output = top_relu_output * self.w01 \n",
    "        \n",
    "        input_to_bottom_relu = input * self.w10 + self.b10\n",
    "        bottom_relu_output = F.relu(input_to_bottom_relu)\n",
    "        scaled_bottom_relu_output = bottom_relu_output * self.w11 \n",
    "        \n",
    "        input_to_final_relu = scaled_top_relu_output + scaled_bottom_relu_output + self.final_bias \n",
    "        \n",
    "        output = F.relu(input_to_final_relu)\n",
    "        return output\n",
    "    "
   ]
  },
  {
   "cell_type": "code",
   "execution_count": 38,
   "metadata": {},
   "outputs": [],
   "source": [
    "input_doses = torch.linspace( start=0, end=1, steps=11 )\n",
    "input_doses\n",
    "\n",
    "model = BasicLightning()\n",
    "output_values = model(input_doses)"
   ]
  },
  {
   "cell_type": "code",
   "execution_count": 39,
   "metadata": {},
   "outputs": [
    {
     "data": {
      "image/png": "[encoded data removed]",
      "text/plain": [
       "<Figure size 640x480 with 1 Axes>"
      ]
     },
     "metadata": {},
     "output_type": "display_data"
    }
   ],
   "source": [
    "# Convert tensors to numpy arrays for plotting\n",
    "sns.set(style=\"whitegrid\")\n",
    "sns.lineplot(x=input_doses.detach().numpy(), \n",
    "             y=output_values.detach().numpy(),\n",
    "             color=\"green\",\n",
    "             linewidth=2.5)\n",
    "plt.ylabel('Effectiveness')\n",
    "plt.xlabel('Dose')\n",
    "plt.show()"
   ]
  },
  {
   "cell_type": "markdown",
   "metadata": {},
   "source": [
    "### 2. Trainable Version with PyTorch Lightning\n",
    "The `BasicLightningTrain` class modifies this to make the `final_bias` parameter trainable. The goal is to:\n",
    "* Learn the optimal final bias value that makes the network's output match the provided labels\n",
    "* Use PyTorch Lightning's built-in features for training and hyperparameter tuning"
   ]
  },
  {
   "cell_type": "code",
   "execution_count": 40,
   "metadata": {},
   "outputs": [],
   "source": [
    "class BasicLightningTrain(L.LightningModule): \n",
    "    def __init__(self):\n",
    "        super().__init__()\n",
    "        self.w00 = nn.Parameter(torch.tensor(1.7), requires_grad=False)\n",
    "        self.b00 = nn.Parameter(torch.tensor(-0.85), requires_grad=False)\n",
    "        self.w01 = nn.Parameter(torch.tensor(-40.8), requires_grad=False)\n",
    "        \n",
    "        self.w10 = nn.Parameter(torch.tensor(12.6), requires_grad=False)\n",
    "        self.b10 = nn.Parameter(torch.tensor(0.0), requires_grad=False)\n",
    "        self.w11 = nn.Parameter(torch.tensor(2.7), requires_grad=False)\n",
    "        \n",
    "        self.final_bias = nn.Parameter(torch.tensor(0.0, requires_grad=True))\n",
    "        self.learning_rate = 0.01\n",
    "    \n",
    "    def forward(self, input):\n",
    "        input_to_top_relu = input * self.w00 + self.b00 \n",
    "        top_relu_output = F.relu(input_to_top_relu)\n",
    "        scaled_top_relu_output = top_relu_output * self.w01 \n",
    "        \n",
    "        input_to_bottom_relu = input * self.w10 + self.b10\n",
    "        bottom_relu_output = F.relu(input_to_bottom_relu)\n",
    "        scaled_bottom_relu_output = bottom_relu_output * self.w11 \n",
    "        \n",
    "        input_to_final_relu = scaled_top_relu_output + scaled_bottom_relu_output + self.final_bias \n",
    "        \n",
    "        output = F.relu(input_to_final_relu)\n",
    "        return output\n",
    "    \n",
    "    def configure_optimizers(self):\n",
    "        return SGD(self.parameters(), lr=self.learning_rate)\n",
    "    \n",
    "    def training_step(self,batch, batch_idx):\n",
    "        input_i , label_i = batch\n",
    "        output_i = self.forward(input_i)\n",
    "        loss = (output_i - label_i)**2\n",
    "        return loss\n",
    "    "
   ]
  },
  {
   "cell_type": "code",
   "execution_count": 42,
   "metadata": {},
   "outputs": [],
   "source": [
    "inputs = torch.tensor([0. , 0.5, 1.])\n",
    "labels = torch.tensor([0., 1, 0.])              # known values "
   ]
  },
  {
   "cell_type": "code",
   "execution_count": 43,
   "metadata": {},
   "outputs": [],
   "source": [
    "dataset = TensorDataset(inputs, labels)\n",
    "dataloader = DataLoader(dataset)"
   ]
  },
  {
   "cell_type": "markdown",
   "metadata": {},
   "source": [
    "### 3. Learning Rate Finding\n",
    "The key part of the notebook uses Lightning's `Tuner` to:\n",
    "* Automatically find the optimal learning rate for training\n",
    "* Search between 0.001 and 1.0 for the best learning rate\n",
    "* The tuner suggests `0.00214` as the optimal learning rate, which can be seen in the output section\n",
    "\n",
    "### 4. Training the Model\n",
    "After setting the learning rate, the model is trained:\n",
    "* For 34 epochs\n",
    "* Using Stochastic Gradient Descent (SGD) optimizer\n",
    "* On a very small dataset (just 3 data points)\n",
    "* The final bias converges to approximately `-2.1706`"
   ]
  },
  {
   "cell_type": "code",
   "execution_count": null,
   "metadata": {},
   "outputs": [
    {
     "name": "stderr",
     "output_type": "stream",
     "text": [
      "You are using the plain ModelCheckpoint callback. Consider using LitModelCheckpoint which with seamless uploading to Model registry.\n",
      "GPU available: True (mps), used: True\n",
      "TPU available: False, using: 0 TPU cores\n",
      "HPU available: False, using: 0 HPUs\n",
      "/Users/sanjeeb/Desktop/Harbin Institute of Technology/Artificial Intelligence/AI_Codes/.venv/lib/python3.11/site-packages/lightning/pytorch/trainer/connectors/data_connector.py:425: The 'train_dataloader' does not have many workers which may be a bottleneck. Consider increasing the value of the `num_workers` argument` to `num_workers=7` in the `DataLoader` to improve performance.\n",
      "/Users/sanjeeb/Desktop/Harbin Institute of Technology/Artificial Intelligence/AI_Codes/.venv/lib/python3.11/site-packages/lightning/pytorch/loops/fit_loop.py:310: The number of training batches (3) is smaller than the logging interval Trainer(log_every_n_steps=50). Set a lower value for log_every_n_steps if you want to see logs for the training epoch.\n",
      "Finding best initial lr:  96%|█████████▌| 96/100 [00:00<00:00, 474.57it/s]`Trainer.fit` stopped: `max_steps=100` reached.\n",
      "Finding best initial lr: 100%|██████████| 100/100 [00:00<00:00, 472.90it/s]\n",
      "Learning rate set to 0.002137962089502232\n",
      "Restoring states from the checkpoint path at /Users/sanjeeb/Desktop/Harbin Institute of Technology/Artificial Intelligence/AI_Codes/Neural-Network/.lr_find_01b15246-10c0-4fea-ac63-ed4be0ab2bfc.ckpt\n",
      "Restored all states from the checkpoint at /Users/sanjeeb/Desktop/Harbin Institute of Technology/Artificial Intelligence/AI_Codes/Neural-Network/.lr_find_01b15246-10c0-4fea-ac63-ed4be0ab2bfc.ckpt\n"
     ]
    },
    {
     "name": "stdout",
     "output_type": "stream",
     "text": [
      "lr_find() suggests 0.00214 for the learning rate.\n"
     ]
    }
   ],
   "source": [
    "model = BasicLightningTrain()\n",
    "trainer = L.Trainer(max_epochs=34)\n",
    "tuner = Tuner(trainer)\n",
    "\n",
    "lr_find_results = tuner.lr_find(model,\n",
    "                                        train_dataloaders = dataloader,\n",
    "                                        min_lr=0.001,\n",
    "                                        max_lr=1.0,\n",
    "                                        early_stop_threshold=None)\n",
    "\n",
    "new_lr = lr_find_results.suggestion()\n",
    "\n",
    "print(f\"lr_find() suggests {new_lr:.5f} for the learning rate.\")\n",
    "\n",
    "model.learning_rate = new_lr\n",
    "\n"
   ]
  },
  {
   "cell_type": "code",
   "execution_count": 45,
   "metadata": {},
   "outputs": [
    {
     "name": "stderr",
     "output_type": "stream",
     "text": [
      "\n",
      "  | Name         | Type | Params | Mode\n",
      "---------------------------------------------\n",
      "  | other params | n/a  | 7      | n/a \n",
      "---------------------------------------------\n",
      "1         Trainable params\n",
      "6         Non-trainable params\n",
      "7         Total params\n",
      "0.000     Total estimated model params size (MB)\n",
      "0         Modules in train mode\n",
      "0         Modules in eval mode\n"
     ]
    },
    {
     "name": "stdout",
     "output_type": "stream",
     "text": [
      "Epoch 99: 100%|██████████| 3/3 [00:00<00:00, 377.30it/s, v_num=8]"
     ]
    },
    {
     "name": "stderr",
     "output_type": "stream",
     "text": [
      "`Trainer.fit` stopped: `max_epochs=100` reached.\n"
     ]
    },
    {
     "name": "stdout",
     "output_type": "stream",
     "text": [
      "Epoch 99: 100%|██████████| 3/3 [00:00<00:00, 247.32it/s, v_num=8]\n",
      "tensor(-16.0100)\n"
     ]
    }
   ],
   "source": [
    "trainer.fit(model, train_dataloaders=dataloader)\n",
    "print(model.final_bias.data)"
   ]
  },
  {
   "cell_type": "code",
   "execution_count": 46,
   "metadata": {},
   "outputs": [
    {
     "data": {
      "image/png": "[encoded data removed]",
      "text/plain": [
       "<Figure size 640x480 with 1 Axes>"
      ]
     },
     "metadata": {},
     "output_type": "display_data"
    }
   ],
   "source": [
    "output_values = model(input_doses)\n",
    "\n",
    "sns.set(style=\"whitegrid\")\n",
    "sns.lineplot(x=input_doses, \n",
    "             y=output_values.detach(),\n",
    "             color=\"green\",\n",
    "             linewidth=2.5)\n",
    "plt.ylabel('Effectiveness')\n",
    "plt.xlabel('Dose')\n",
    "plt.show()"
   ]
  },
  {
   "cell_type": "markdown",
   "metadata": {},
   "source": [
    "The difference in the final bias values `(-16.0019 vs -2.1706)` between manual training loop and PyTorch Lightning implementation occurs due to three key differences:\n",
    "\n",
    "#### 1. Learning Rate Difference\n",
    "* **Manual Training:** We used `lr=0.1` (aggressive learning rate)\n",
    "* **Lightning Training:** The tuner suggested `lr=0.00214` (much smaller learning rate)\n",
    "    * Lightning's lr_find() recommended a conservative learning rate, causing slower convergence.\n",
    "\n",
    "#### 2. Optimization Strategy\n",
    "* **Manual Training:** We ran `100` epochs but stopped early at 34 steps due to total_loss < 0.0001.\n",
    "* **Lightning Training:** We ran `34` epochs (fixed), but:\n",
    "    * Lightning's training_step() computes loss per batch, not per sample.\n",
    "    * Since batch size = 1 (default in DataLoader), it processes 3 samples per epoch (one for each input in [0.0, 0.5, 1.0]).\n",
    "    * → Effectively, Lightning trains for 34 epochs × 3 steps = 102 steps, but with a smaller learning rate.\n",
    "\n",
    "#### 3. Loss Calculation & Gradient Updates\n",
    "* **Manual Training:** We accumulate gradients across all samples before calling optimizer.step() (batch gradient descent).\n",
    "* **Lightning Training:** By default, Lightning performs per-batch updates (equivalent to SGD).\n",
    "    * → Each batch triggers a gradient update, leading to noisier but potentially faster convergence."
   ]
  },
  {
   "cell_type": "markdown",
   "metadata": {},
   "source": [
    "## Why Lightning Stopped at -2.1706\n",
    "* With `lr=0.00214`, the updates were too small to reach -16.0 in 34 epochs.\n",
    "* If you trained longer (e.g., 1400+ epochs), Lightning would eventually converge to ~-16.0."
   ]
  },
  {
   "cell_type": "code",
   "execution_count": 54,
   "metadata": {},
   "outputs": [
    {
     "name": "stderr",
     "output_type": "stream",
     "text": [
      "You are using the plain ModelCheckpoint callback. Consider using LitModelCheckpoint which with seamless uploading to Model registry.\n",
      "GPU available: True (mps), used: True\n",
      "TPU available: False, using: 0 TPU cores\n",
      "HPU available: False, using: 0 HPUs\n",
      "Finding best initial lr:  49%|████▉     | 49/100 [00:00<00:00, 482.25it/s]`Trainer.fit` stopped: `max_steps=100` reached.\n",
      "Finding best initial lr: 100%|██████████| 100/100 [00:00<00:00, 498.97it/s]\n",
      "Learning rate set to 0.002137962089502232\n",
      "Restoring states from the checkpoint path at /Users/sanjeeb/Desktop/Harbin Institute of Technology/Artificial Intelligence/AI_Codes/Neural-Network/.lr_find_d654899f-7620-4612-b509-4f44bca5e2d6.ckpt\n",
      "Restored all states from the checkpoint at /Users/sanjeeb/Desktop/Harbin Institute of Technology/Artificial Intelligence/AI_Codes/Neural-Network/.lr_find_d654899f-7620-4612-b509-4f44bca5e2d6.ckpt\n",
      "\n",
      "  | Name         | Type | Params | Mode\n",
      "---------------------------------------------\n",
      "  | other params | n/a  | 7      | n/a \n",
      "---------------------------------------------\n",
      "1         Trainable params\n",
      "6         Non-trainable params\n",
      "7         Total params\n",
      "0.000     Total estimated model params size (MB)\n",
      "0         Modules in train mode\n",
      "0         Modules in eval mode\n"
     ]
    },
    {
     "name": "stdout",
     "output_type": "stream",
     "text": [
      "lr_find() suggests 0.00214 for the learning rate.\n",
      "Epoch 1399: 100%|██████████| 3/3 [00:00<00:00, 391.86it/s, v_num=16]"
     ]
    },
    {
     "name": "stderr",
     "output_type": "stream",
     "text": [
      "`Trainer.fit` stopped: `max_epochs=1400` reached.\n"
     ]
    },
    {
     "name": "stdout",
     "output_type": "stream",
     "text": [
      "Epoch 1399: 100%|██████████| 3/3 [00:00<00:00, 225.58it/s, v_num=16]\n",
      "tensor(-15.9703)\n"
     ]
    }
   ],
   "source": [
    "model = BasicLightningTrain()\n",
    "trainer = L.Trainer(max_epochs=1400)\n",
    "tuner = Tuner(trainer)\n",
    "\n",
    "lr_find_results = tuner.lr_find(model,\n",
    "                                        train_dataloaders = dataloader,\n",
    "                                        min_lr=0.001,\n",
    "                                        max_lr=1.0,\n",
    "                                        early_stop_threshold=None)\n",
    "\n",
    "new_lr = lr_find_results.suggestion()\n",
    "\n",
    "print(f\"lr_find() suggests {new_lr:.5f} for the learning rate.\")\n",
    "\n",
    "model.learning_rate = new_lr\n",
    "\n",
    "trainer.fit(model, train_dataloaders=dataloader)\n",
    "print(model.final_bias.data)"
   ]
  },
  {
   "cell_type": "markdown",
   "metadata": {},
   "source": [
    "The fact that increasing max_epochs to 1400 in PyTorch Lightning got you closer to the manual training result (tensor(-15.9703) vs tensor(-16.0019)) confirms that the difference was primarily due to:\n",
    "\n",
    "### 1. Learning Rate vs. Training Steps\n",
    "* Manual Training (LR=0.1)\n",
    "    * Converged in 34 steps (aggressive updates due to high LR).\n",
    "    * Final bias: ~-16.0\n",
    "* Lightning (LR=0.00214)\n",
    "    * Required 1400 epochs (much smaller updates per step).\n",
    "    * Stopped at ~-15.97 (still slightly short of -16.0).\n",
    "\n",
    "→ The smaller LR in Lightning means each update is tiny, requiring far more steps to reach the same result.\n",
    "\n",
    "### 2. Why Didn’t It Reach Exactly -16.0?\n",
    "Even after 1400 epochs, Lightning didn’t perfectly match the manual result because:\n",
    "* Gradient Updates Differ\n",
    "    * Manual loop accumulates gradients over all samples before updating (batch GD).\n",
    "    * Lightning updates per batch (SGD-like behavior unless configured otherwise).\n",
    "* Numerical Precision\n",
    "    * With very small gradients (near convergence), updates become negligible.\n",
    "    * The optimizer might stall before hitting the exact theoretical value.\n",
    "\n",
    "#### How to Get Identical Results in Lightning\n",
    "* Option 1: Use the Same LR (0.1)\n",
    "* Option 2: Simulate Batch Gradient Descent\n",
    "* Option 3: Train Longer\n",
    "\n",
    "### Key Insight\n",
    "* Higher LR → Faster convergence, but risk of overshooting.\n",
    "* Lower LR → More precise, but needs many more steps."
   ]
  },
  {
   "cell_type": "markdown",
   "metadata": {},
   "source": []
  }
 ],
 "metadata": {
  "kernelspec": {
   "display_name": ".venv",
   "language": "python",
   "name": "python3"
  },
  "language_info": {
   "codemirror_mode": {
    "name": "ipython",
    "version": 3
   },
   "file_extension": ".py",
   "mimetype": "text/x-python",
   "name": "python",
   "nbconvert_exporter": "python",
   "pygments_lexer": "ipython3",
   "version": "3.11.0"
  }
 },
 "nbformat": 4,
 "nbformat_minor": 2
}
