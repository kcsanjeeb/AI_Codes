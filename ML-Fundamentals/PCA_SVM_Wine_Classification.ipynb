{
 "cells": [
  {
   "cell_type": "code",
   "execution_count": 275,
   "id": "157522e5",
   "metadata": {},
   "outputs": [],
   "source": [
    "import pandas as pd\n",
    "df_wine = pd.read_csv('https://archive.ics.uci.edu/ml/machine-learning-databases/wine/wine.data',header=None)"
   ]
  },
  {
   "cell_type": "code",
   "execution_count": 276,
   "id": "085598d3-8f86-46fc-9118-59a87a658115",
   "metadata": {},
   "outputs": [
    {
     "data": {
      "text/html": [
       "<div>\n",
       "<style scoped>\n",
       "    .dataframe tbody tr th:only-of-type {\n",
       "        vertical-align: middle;\n",
       "    }\n",
       "\n",
       "    .dataframe tbody tr th {\n",
       "        vertical-align: top;\n",
       "    }\n",
       "\n",
       "    .dataframe thead th {\n",
       "        text-align: right;\n",
       "    }\n",
       "</style>\n",
       "<table border=\"1\" class=\"dataframe\">\n",
       "  <thead>\n",
       "    <tr style=\"text-align: right;\">\n",
       "      <th></th>\n",
       "      <th>0</th>\n",
       "      <th>1</th>\n",
       "      <th>2</th>\n",
       "      <th>3</th>\n",
       "      <th>4</th>\n",
       "      <th>5</th>\n",
       "      <th>6</th>\n",
       "      <th>7</th>\n",
       "      <th>8</th>\n",
       "      <th>9</th>\n",
       "      <th>10</th>\n",
       "      <th>11</th>\n",
       "      <th>12</th>\n",
       "      <th>13</th>\n",
       "    </tr>\n",
       "  </thead>\n",
       "  <tbody>\n",
       "    <tr>\n",
       "      <th>0</th>\n",
       "      <td>1</td>\n",
       "      <td>14.23</td>\n",
       "      <td>1.71</td>\n",
       "      <td>2.43</td>\n",
       "      <td>15.6</td>\n",
       "      <td>127</td>\n",
       "      <td>2.80</td>\n",
       "      <td>3.06</td>\n",
       "      <td>0.28</td>\n",
       "      <td>2.29</td>\n",
       "      <td>5.64</td>\n",
       "      <td>1.04</td>\n",
       "      <td>3.92</td>\n",
       "      <td>1065</td>\n",
       "    </tr>\n",
       "    <tr>\n",
       "      <th>1</th>\n",
       "      <td>1</td>\n",
       "      <td>13.20</td>\n",
       "      <td>1.78</td>\n",
       "      <td>2.14</td>\n",
       "      <td>11.2</td>\n",
       "      <td>100</td>\n",
       "      <td>2.65</td>\n",
       "      <td>2.76</td>\n",
       "      <td>0.26</td>\n",
       "      <td>1.28</td>\n",
       "      <td>4.38</td>\n",
       "      <td>1.05</td>\n",
       "      <td>3.40</td>\n",
       "      <td>1050</td>\n",
       "    </tr>\n",
       "    <tr>\n",
       "      <th>2</th>\n",
       "      <td>1</td>\n",
       "      <td>13.16</td>\n",
       "      <td>2.36</td>\n",
       "      <td>2.67</td>\n",
       "      <td>18.6</td>\n",
       "      <td>101</td>\n",
       "      <td>2.80</td>\n",
       "      <td>3.24</td>\n",
       "      <td>0.30</td>\n",
       "      <td>2.81</td>\n",
       "      <td>5.68</td>\n",
       "      <td>1.03</td>\n",
       "      <td>3.17</td>\n",
       "      <td>1185</td>\n",
       "    </tr>\n",
       "    <tr>\n",
       "      <th>3</th>\n",
       "      <td>1</td>\n",
       "      <td>14.37</td>\n",
       "      <td>1.95</td>\n",
       "      <td>2.50</td>\n",
       "      <td>16.8</td>\n",
       "      <td>113</td>\n",
       "      <td>3.85</td>\n",
       "      <td>3.49</td>\n",
       "      <td>0.24</td>\n",
       "      <td>2.18</td>\n",
       "      <td>7.80</td>\n",
       "      <td>0.86</td>\n",
       "      <td>3.45</td>\n",
       "      <td>1480</td>\n",
       "    </tr>\n",
       "    <tr>\n",
       "      <th>4</th>\n",
       "      <td>1</td>\n",
       "      <td>13.24</td>\n",
       "      <td>2.59</td>\n",
       "      <td>2.87</td>\n",
       "      <td>21.0</td>\n",
       "      <td>118</td>\n",
       "      <td>2.80</td>\n",
       "      <td>2.69</td>\n",
       "      <td>0.39</td>\n",
       "      <td>1.82</td>\n",
       "      <td>4.32</td>\n",
       "      <td>1.04</td>\n",
       "      <td>2.93</td>\n",
       "      <td>735</td>\n",
       "    </tr>\n",
       "    <tr>\n",
       "      <th>...</th>\n",
       "      <td>...</td>\n",
       "      <td>...</td>\n",
       "      <td>...</td>\n",
       "      <td>...</td>\n",
       "      <td>...</td>\n",
       "      <td>...</td>\n",
       "      <td>...</td>\n",
       "      <td>...</td>\n",
       "      <td>...</td>\n",
       "      <td>...</td>\n",
       "      <td>...</td>\n",
       "      <td>...</td>\n",
       "      <td>...</td>\n",
       "      <td>...</td>\n",
       "    </tr>\n",
       "    <tr>\n",
       "      <th>173</th>\n",
       "      <td>3</td>\n",
       "      <td>13.71</td>\n",
       "      <td>5.65</td>\n",
       "      <td>2.45</td>\n",
       "      <td>20.5</td>\n",
       "      <td>95</td>\n",
       "      <td>1.68</td>\n",
       "      <td>0.61</td>\n",
       "      <td>0.52</td>\n",
       "      <td>1.06</td>\n",
       "      <td>7.70</td>\n",
       "      <td>0.64</td>\n",
       "      <td>1.74</td>\n",
       "      <td>740</td>\n",
       "    </tr>\n",
       "    <tr>\n",
       "      <th>174</th>\n",
       "      <td>3</td>\n",
       "      <td>13.40</td>\n",
       "      <td>3.91</td>\n",
       "      <td>2.48</td>\n",
       "      <td>23.0</td>\n",
       "      <td>102</td>\n",
       "      <td>1.80</td>\n",
       "      <td>0.75</td>\n",
       "      <td>0.43</td>\n",
       "      <td>1.41</td>\n",
       "      <td>7.30</td>\n",
       "      <td>0.70</td>\n",
       "      <td>1.56</td>\n",
       "      <td>750</td>\n",
       "    </tr>\n",
       "    <tr>\n",
       "      <th>175</th>\n",
       "      <td>3</td>\n",
       "      <td>13.27</td>\n",
       "      <td>4.28</td>\n",
       "      <td>2.26</td>\n",
       "      <td>20.0</td>\n",
       "      <td>120</td>\n",
       "      <td>1.59</td>\n",
       "      <td>0.69</td>\n",
       "      <td>0.43</td>\n",
       "      <td>1.35</td>\n",
       "      <td>10.20</td>\n",
       "      <td>0.59</td>\n",
       "      <td>1.56</td>\n",
       "      <td>835</td>\n",
       "    </tr>\n",
       "    <tr>\n",
       "      <th>176</th>\n",
       "      <td>3</td>\n",
       "      <td>13.17</td>\n",
       "      <td>2.59</td>\n",
       "      <td>2.37</td>\n",
       "      <td>20.0</td>\n",
       "      <td>120</td>\n",
       "      <td>1.65</td>\n",
       "      <td>0.68</td>\n",
       "      <td>0.53</td>\n",
       "      <td>1.46</td>\n",
       "      <td>9.30</td>\n",
       "      <td>0.60</td>\n",
       "      <td>1.62</td>\n",
       "      <td>840</td>\n",
       "    </tr>\n",
       "    <tr>\n",
       "      <th>177</th>\n",
       "      <td>3</td>\n",
       "      <td>14.13</td>\n",
       "      <td>4.10</td>\n",
       "      <td>2.74</td>\n",
       "      <td>24.5</td>\n",
       "      <td>96</td>\n",
       "      <td>2.05</td>\n",
       "      <td>0.76</td>\n",
       "      <td>0.56</td>\n",
       "      <td>1.35</td>\n",
       "      <td>9.20</td>\n",
       "      <td>0.61</td>\n",
       "      <td>1.60</td>\n",
       "      <td>560</td>\n",
       "    </tr>\n",
       "  </tbody>\n",
       "</table>\n",
       "<p>178 rows × 14 columns</p>\n",
       "</div>"
      ],
      "text/plain": [
       "     0      1     2     3     4    5     6     7     8     9      10    11  \\\n",
       "0     1  14.23  1.71  2.43  15.6  127  2.80  3.06  0.28  2.29   5.64  1.04   \n",
       "1     1  13.20  1.78  2.14  11.2  100  2.65  2.76  0.26  1.28   4.38  1.05   \n",
       "2     1  13.16  2.36  2.67  18.6  101  2.80  3.24  0.30  2.81   5.68  1.03   \n",
       "3     1  14.37  1.95  2.50  16.8  113  3.85  3.49  0.24  2.18   7.80  0.86   \n",
       "4     1  13.24  2.59  2.87  21.0  118  2.80  2.69  0.39  1.82   4.32  1.04   \n",
       "..   ..    ...   ...   ...   ...  ...   ...   ...   ...   ...    ...   ...   \n",
       "173   3  13.71  5.65  2.45  20.5   95  1.68  0.61  0.52  1.06   7.70  0.64   \n",
       "174   3  13.40  3.91  2.48  23.0  102  1.80  0.75  0.43  1.41   7.30  0.70   \n",
       "175   3  13.27  4.28  2.26  20.0  120  1.59  0.69  0.43  1.35  10.20  0.59   \n",
       "176   3  13.17  2.59  2.37  20.0  120  1.65  0.68  0.53  1.46   9.30  0.60   \n",
       "177   3  14.13  4.10  2.74  24.5   96  2.05  0.76  0.56  1.35   9.20  0.61   \n",
       "\n",
       "       12    13  \n",
       "0    3.92  1065  \n",
       "1    3.40  1050  \n",
       "2    3.17  1185  \n",
       "3    3.45  1480  \n",
       "4    2.93   735  \n",
       "..    ...   ...  \n",
       "173  1.74   740  \n",
       "174  1.56   750  \n",
       "175  1.56   835  \n",
       "176  1.62   840  \n",
       "177  1.60   560  \n",
       "\n",
       "[178 rows x 14 columns]"
      ]
     },
     "execution_count": 276,
     "metadata": {},
     "output_type": "execute_result"
    }
   ],
   "source": [
    "df_wine"
   ]
  },
  {
   "cell_type": "code",
   "execution_count": 277,
   "id": "e87a6b23-600d-4beb-87a6-71b6c3b1a3ca",
   "metadata": {},
   "outputs": [
    {
     "data": {
      "text/html": [
       "<div>\n",
       "<style scoped>\n",
       "    .dataframe tbody tr th:only-of-type {\n",
       "        vertical-align: middle;\n",
       "    }\n",
       "\n",
       "    .dataframe tbody tr th {\n",
       "        vertical-align: top;\n",
       "    }\n",
       "\n",
       "    .dataframe thead th {\n",
       "        text-align: right;\n",
       "    }\n",
       "</style>\n",
       "<table border=\"1\" class=\"dataframe\">\n",
       "  <thead>\n",
       "    <tr style=\"text-align: right;\">\n",
       "      <th></th>\n",
       "      <th>Class label</th>\n",
       "      <th>Alcohol</th>\n",
       "      <th>Malic acid</th>\n",
       "      <th>Alcalinity of ash</th>\n",
       "      <th>Magnesium</th>\n",
       "      <th>Flavanoids</th>\n",
       "      <th>Nonflavanoid phenols</th>\n",
       "      <th>Ash</th>\n",
       "      <th>Total phenols</th>\n",
       "      <th>Proanthocyanins</th>\n",
       "      <th>Color intensity</th>\n",
       "      <th>Hue</th>\n",
       "      <th>OD280/OD315 of diluted wines</th>\n",
       "      <th>Proline</th>\n",
       "    </tr>\n",
       "  </thead>\n",
       "  <tbody>\n",
       "    <tr>\n",
       "      <th>0</th>\n",
       "      <td>1</td>\n",
       "      <td>14.23</td>\n",
       "      <td>1.71</td>\n",
       "      <td>2.43</td>\n",
       "      <td>15.6</td>\n",
       "      <td>127</td>\n",
       "      <td>2.80</td>\n",
       "      <td>3.06</td>\n",
       "      <td>0.28</td>\n",
       "      <td>2.29</td>\n",
       "      <td>5.64</td>\n",
       "      <td>1.04</td>\n",
       "      <td>3.92</td>\n",
       "      <td>1065</td>\n",
       "    </tr>\n",
       "    <tr>\n",
       "      <th>1</th>\n",
       "      <td>1</td>\n",
       "      <td>13.20</td>\n",
       "      <td>1.78</td>\n",
       "      <td>2.14</td>\n",
       "      <td>11.2</td>\n",
       "      <td>100</td>\n",
       "      <td>2.65</td>\n",
       "      <td>2.76</td>\n",
       "      <td>0.26</td>\n",
       "      <td>1.28</td>\n",
       "      <td>4.38</td>\n",
       "      <td>1.05</td>\n",
       "      <td>3.40</td>\n",
       "      <td>1050</td>\n",
       "    </tr>\n",
       "    <tr>\n",
       "      <th>2</th>\n",
       "      <td>1</td>\n",
       "      <td>13.16</td>\n",
       "      <td>2.36</td>\n",
       "      <td>2.67</td>\n",
       "      <td>18.6</td>\n",
       "      <td>101</td>\n",
       "      <td>2.80</td>\n",
       "      <td>3.24</td>\n",
       "      <td>0.30</td>\n",
       "      <td>2.81</td>\n",
       "      <td>5.68</td>\n",
       "      <td>1.03</td>\n",
       "      <td>3.17</td>\n",
       "      <td>1185</td>\n",
       "    </tr>\n",
       "    <tr>\n",
       "      <th>3</th>\n",
       "      <td>1</td>\n",
       "      <td>14.37</td>\n",
       "      <td>1.95</td>\n",
       "      <td>2.50</td>\n",
       "      <td>16.8</td>\n",
       "      <td>113</td>\n",
       "      <td>3.85</td>\n",
       "      <td>3.49</td>\n",
       "      <td>0.24</td>\n",
       "      <td>2.18</td>\n",
       "      <td>7.80</td>\n",
       "      <td>0.86</td>\n",
       "      <td>3.45</td>\n",
       "      <td>1480</td>\n",
       "    </tr>\n",
       "    <tr>\n",
       "      <th>4</th>\n",
       "      <td>1</td>\n",
       "      <td>13.24</td>\n",
       "      <td>2.59</td>\n",
       "      <td>2.87</td>\n",
       "      <td>21.0</td>\n",
       "      <td>118</td>\n",
       "      <td>2.80</td>\n",
       "      <td>2.69</td>\n",
       "      <td>0.39</td>\n",
       "      <td>1.82</td>\n",
       "      <td>4.32</td>\n",
       "      <td>1.04</td>\n",
       "      <td>2.93</td>\n",
       "      <td>735</td>\n",
       "    </tr>\n",
       "  </tbody>\n",
       "</table>\n",
       "</div>"
      ],
      "text/plain": [
       "   Class label  Alcohol  Malic acid  Alcalinity of ash  Magnesium  Flavanoids  \\\n",
       "0            1    14.23        1.71               2.43       15.6         127   \n",
       "1            1    13.20        1.78               2.14       11.2         100   \n",
       "2            1    13.16        2.36               2.67       18.6         101   \n",
       "3            1    14.37        1.95               2.50       16.8         113   \n",
       "4            1    13.24        2.59               2.87       21.0         118   \n",
       "\n",
       "   Nonflavanoid phenols   Ash  Total phenols  Proanthocyanins  \\\n",
       "0                  2.80  3.06           0.28             2.29   \n",
       "1                  2.65  2.76           0.26             1.28   \n",
       "2                  2.80  3.24           0.30             2.81   \n",
       "3                  3.85  3.49           0.24             2.18   \n",
       "4                  2.80  2.69           0.39             1.82   \n",
       "\n",
       "   Color intensity   Hue  OD280/OD315 of diluted wines  Proline  \n",
       "0             5.64  1.04                          3.92     1065  \n",
       "1             4.38  1.05                          3.40     1050  \n",
       "2             5.68  1.03                          3.17     1185  \n",
       "3             7.80  0.86                          3.45     1480  \n",
       "4             4.32  1.04                          2.93      735  "
      ]
     },
     "execution_count": 277,
     "metadata": {},
     "output_type": "execute_result"
    }
   ],
   "source": [
    "df_wine.columns = [\n",
    "'Class label',\n",
    "'Alcohol',\n",
    "'Malic acid',\n",
    "'Alcalinity of ash',\n",
    "'Magnesium',\n",
    "'Flavanoids',\n",
    "'Nonflavanoid phenols',\n",
    "'Ash',\n",
    "'Total phenols',\n",
    "'Proanthocyanins',\n",
    "'Color intensity',\n",
    "'Hue',\n",
    "'OD280/OD315 of diluted wines',\n",
    "'Proline'\n",
    "]\n",
    "df_wine.head()"
   ]
  },
  {
   "cell_type": "code",
   "execution_count": 278,
   "id": "2fc19bb3-9c9d-4bd1-84e0-60636b1efb8a",
   "metadata": {},
   "outputs": [],
   "source": [
    "from sklearn.model_selection import train_test_split"
   ]
  },
  {
   "cell_type": "code",
   "execution_count": 279,
   "id": "bd80f085-b53d-4f92-8070-cde06c3cff22",
   "metadata": {},
   "outputs": [],
   "source": [
    "X = df_wine.iloc[:,1:].values # Features\n",
    "y = df_wine.iloc[:,0].values # Target Labels"
   ]
  },
  {
   "cell_type": "code",
   "execution_count": 280,
   "id": "d17669ca-05d2-4f3b-9e7d-b0ce474ff1ce",
   "metadata": {},
   "outputs": [
    {
     "data": {
      "text/plain": [
       "(178, 13)"
      ]
     },
     "execution_count": 280,
     "metadata": {},
     "output_type": "execute_result"
    }
   ],
   "source": [
    "X.shape"
   ]
  },
  {
   "cell_type": "code",
   "execution_count": 281,
   "id": "5b653e43-2a81-44c2-a70f-a50c7a48544d",
   "metadata": {},
   "outputs": [],
   "source": [
    "X_train, X_test, y_train, y_test = train_test_split(X, y, test_size=0.3, random_state=48)"
   ]
  },
  {
   "cell_type": "code",
   "execution_count": 282,
   "id": "bf72e665-ecd4-4b87-88c2-667b58c6b32c",
   "metadata": {},
   "outputs": [
    {
     "name": "stdout",
     "output_type": "stream",
     "text": [
      "Training set size: 124 samples\n",
      "Test set size: 54\n"
     ]
    }
   ],
   "source": [
    "# Print the sizes of the training and testing sets\n",
    "print(f\"Training set size: {len(X_train)} samples\")\n",
    "print(f\"Test set size: {len(X_test)}\")"
   ]
  },
  {
   "cell_type": "markdown",
   "id": "04661479-f395-409b-87d4-703edc4343d2",
   "metadata": {},
   "source": [
    "### 3.3 PCA Dimensionality Reduction\n",
    "Principal Component Analysis (PCA) is a dimensionality reduction technique widely used in machine learning and statistics to simplify high-dimensional datasets while a retaining as much of the data's variability as possible. The process of applying PCA for dimensionality reduction involves several key steps:\n",
    "\n",
    "* (1) Data Preparation: Before starting PCA, it's essential to preprocess the data. This typically includes standardizing the features to have zero mean and unit variance, which is crucial for PCA since it is sensitive to the scale of variables.\n",
    "  * StandardScaler is a preprocessing technique commonly used in machine learning for feature scaling. It transforms the features of the input dataset by performing a standardization operation, ensuring that the distribution of each feature has a mean of 0 and a standard deviation of 1, thereby bringing all features to the same scale."
   ]
  },
  {
   "cell_type": "code",
   "execution_count": 283,
   "id": "efc08833-42b1-4916-b94a-57154ca349a4",
   "metadata": {},
   "outputs": [],
   "source": [
    "from sklearn.preprocessing import StandardScaler\n",
    "scaler = StandardScaler()\n",
    "#scaler.fit(X_train)\n",
    "X_train_std = scaler.fit_transform(X_train)\n",
    "X_test_std = scaler.transform(X_test)"
   ]
  },
  {
   "cell_type": "markdown",
   "id": "60b7a188-37a7-4c68-9438-e604ddcef659",
   "metadata": {},
   "source": [
    "* The covariance matrix shows how each pair of features varies together.\n",
    "* High absolute values indicate strong correlations (useful for PCA).\n",
    "* PCA works by finding directions (eigenvectors) of maximum variance in this matrix.\n",
    "* The shape (13, 13) confirms the matrix covers all 13 features.\n",
    "* Later, PCA will rank these directions by importance (eigenvalues) to reduce dimensions."
   ]
  },
  {
   "cell_type": "markdown",
   "id": "e37b1e5b-23c8-4436-9fb4-49e216010659",
   "metadata": {},
   "source": [
    "### Covariance Matrix"
   ]
  },
  {
   "cell_type": "code",
   "execution_count": 284,
   "id": "423da505-7bac-47aa-b29b-d5ef9ec2310d",
   "metadata": {},
   "outputs": [
    {
     "data": {
      "text/plain": [
       "(13, 13)"
      ]
     },
     "execution_count": 284,
     "metadata": {},
     "output_type": "execute_result"
    }
   ],
   "source": [
    "import numpy as np\n",
    "cov_mat = np.cov(X_train_std.T)\n",
    "cov_mat.shape"
   ]
  },
  {
   "cell_type": "markdown",
   "id": "2cf859c5-12db-4cad-a792-b4607a76e739",
   "metadata": {},
   "source": [
    "### Eigenvalue Decomposition"
   ]
  },
  {
   "cell_type": "code",
   "execution_count": 285,
   "id": "e9a63085-7887-4850-9049-6c53293b95df",
   "metadata": {},
   "outputs": [
    {
     "name": "stdout",
     "output_type": "stream",
     "text": [
      "\n",
      "Eigenvalues \n",
      "[4.79238486 2.62792025 1.39308561 0.98592278 0.87537781 0.6705819\n",
      " 0.48279911 0.09713136 0.31751144 0.29032342 0.23963852 0.15560255\n",
      " 0.17741144]\n"
     ]
    }
   ],
   "source": [
    "eigen_vals, eigen_vecs = np.linalg.eig(cov_mat)\n",
    "print('\\nEigenvalues \\n%s' % eigen_vals) "
   ]
  },
  {
   "cell_type": "code",
   "execution_count": 286,
   "id": "b940fb53-1a60-491c-9066-a58cee7de5f8",
   "metadata": {},
   "outputs": [
    {
     "data": {
      "text/plain": [
       "[0.36567204559345845,\n",
       " 0.20051748782092627,\n",
       " 0.10629623480146864,\n",
       " 0.07522859941866294,\n",
       " 0.0667937163473259,\n",
       " 0.05116722929762146,\n",
       " 0.03683888983886919,\n",
       " 0.02422698976513349,\n",
       " 0.022152469566845797,\n",
       " 0.018285072961015995,\n",
       " 0.01353697733109915,\n",
       " 0.011872899462518809,\n",
       " 0.007411387795053824]"
      ]
     },
     "execution_count": 286,
     "metadata": {},
     "output_type": "execute_result"
    }
   ],
   "source": [
    "# Calculate the total of the eigenvalues\n",
    "tot = sum(eigen_vals)\n",
    "# Calculate the percentage of variance explained by each eigenvalue\n",
    "# List comprehension to calculate variance explained, sorted by eigenvalue magnitude in descending order\n",
    "var_exp = [(i / tot) for i in sorted(eigen_vals, reverse=True) ]\n",
    "# Calculate the cumulative variance explained\n",
    "cum_var_exp = np.cumsum(var_exp) # Cumulative sum of the explained variances\n",
    "\n",
    "var_exp"
   ]
  },
  {
   "cell_type": "code",
   "execution_count": 287,
   "id": "de321cfc-48fa-4d26-8465-d31bb0f0af8d",
   "metadata": {},
   "outputs": [
    {
     "data": {
      "image/png": "[encoded data removed]",
      "text/plain": [
       "<Figure size 640x480 with 1 Axes>"
      ]
     },
     "metadata": {},
     "output_type": "display_data"
    }
   ],
   "source": [
    "import matplotlib.pyplot as plt\n",
    "plt.bar(range(1, 14), var_exp, alpha=0.5, align='center', label='individual explained variance')\n",
    "plt.step(range(1, 14), cum_var_exp, where='mid', label='cumulative explained variance')\n",
    "plt.ylabel('Explained variance ratio')\n",
    "plt.xlabel('Principal components')\n",
    "plt.legend(loc= 'best')\n",
    "plt.tight_layout()\n",
    "plt.show()"
   ]
  },
  {
   "cell_type": "code",
   "execution_count": 288,
   "id": "8bede0c7-a1f4-4a87-a12e-d7793e51817a",
   "metadata": {},
   "outputs": [
    {
     "data": {
      "text/plain": [
       "[(4.792384857696376,\n",
       "  array([ 0.15665089, -0.25751677,  0.00524937, -0.24804323,  0.15272478,\n",
       "          0.38029125,  0.42058583, -0.32160848,  0.29554616, -0.05912778,\n",
       "          0.28682891,  0.37307024,  0.2950017 ])),\n",
       " (2.627920246888884,\n",
       "  array([-4.85795595e-01, -2.31195791e-01, -3.91112205e-01, -7.45554344e-02,\n",
       "         -2.35643992e-01, -6.98178486e-02,  2.67703410e-04, -8.73711553e-02,\n",
       "         -5.01268570e-02, -5.04024398e-01,  2.79409319e-01,  1.26204380e-01,\n",
       "         -3.65290369e-01])),\n",
       " (1.3930856138208718,\n",
       "  array([ 0.18237532, -0.11797145, -0.52694618, -0.63714949, -0.00244807,\n",
       "         -0.1677283 , -0.16287334, -0.17619201, -0.22169645,  0.23202655,\n",
       "         -0.10088041, -0.20929948,  0.16282302])),\n",
       " (0.9859227826250774,\n",
       "  array([-0.1070652 , -0.29241377,  0.23777491, -0.027828  ,  0.69606588,\n",
       "         -0.26209408, -0.1850799 ,  0.06261639, -0.21012081, -0.19195245,\n",
       "          0.34037929, -0.18250626,  0.15550055])),\n",
       " (0.8753778109909692,\n",
       "  array([-0.2064539 ,  0.39333438, -0.23054987,  0.06326357,  0.50476225,\n",
       "         -0.07042977, -0.06618207, -0.4442152 ,  0.39903495, -0.0525619 ,\n",
       "         -0.30860483,  0.00264931, -0.16377189])),\n",
       " (0.6705818994127292,\n",
       "  array([-0.17137556, -0.43085751, -0.19410971,  0.06886724,  0.05738796,\n",
       "          0.08654104,  0.00170032,  0.36137621,  0.59146851,  0.35601431,\n",
       "          0.03585082, -0.33472661, -0.10622707])),\n",
       " (0.482799109107781,\n",
       "  array([-0.19059439, -0.55731513,  0.14653947,  0.25738347, -0.01992465,\n",
       "          0.13137266, -0.00408064, -0.47466686, -0.30619696,  0.23818787,\n",
       "         -0.40315392,  0.00078467, -0.096689  ])),\n",
       " (0.31751144310077345,\n",
       "  array([ 0.25471625, -0.17813582, -0.01850165,  0.27192601, -0.23859035,\n",
       "         -0.67686031, -0.18981384, -0.26094741,  0.30854865,  0.06293306,\n",
       "          0.15798241,  0.24518479,  0.16023811])),\n",
       " (0.29032342229069413,\n",
       "  array([ 0.43431918, -0.27386064, -0.27855027,  0.11473594,  0.25022684,\n",
       "          0.03837204, -0.07092416,  0.36762209, -0.02667318, -0.32667237,\n",
       "         -0.42710523,  0.3661877 , -0.13195409])),\n",
       " (0.23963851718014428,\n",
       "  array([ 0.35423628,  0.08722755, -0.2282722 ,  0.24957918,  0.17779791,\n",
       "          0.13222604,  0.01144471, -0.12133466, -0.21668699,  0.36089143,\n",
       "          0.47168335,  0.04525185, -0.53556733])),\n",
       " (0.17741144274578702,\n",
       "  array([-0.23792422,  0.11105998, -0.48592192,  0.46971629,  0.04437743,\n",
       "          0.19232161, -0.11542923,  0.08765039, -0.19257954,  0.10799489,\n",
       "          0.11083164,  0.10970972,  0.58418416])),\n",
       " (0.15560255230553086,\n",
       "  array([ 0.37073873, -0.0457308 , -0.12651875,  0.27583768, -0.10837918,\n",
       "          0.10075736,  0.19409221, -0.23179816,  0.04273548, -0.44239959,\n",
       "          0.00788621, -0.66880149,  0.10082889])),\n",
       " (0.09713135874493292,\n",
       "  array([-0.11562187,  0.03307502, -0.13535508,  0.07122685,  0.1152897 ,\n",
       "         -0.44691587,  0.81592854,  0.14617342, -0.17955234,  0.13130314,\n",
       "         -0.11118018, -0.01176048, -0.00573698]))]"
      ]
     },
     "execution_count": 288,
     "metadata": {},
     "output_type": "execute_result"
    }
   ],
   "source": [
    "# Construct a list of tuples, each containing an eigenvalue and its corresponding eigenvector.\n",
    "# np. abs(eigen_vals[i]) computes the absolute value of the i-th eigenvalue to handle any potential sign inconsistency.\n",
    "# eigen_vecs[:, i] extracts the i-th column vector (eigenvector) from the eigen_vecs matrix.\n",
    "# This Loop iterates over the range of indices equivalent to the number of eigenvalues, creating a pair for each eigenvalue-vector combo.\n",
    "eigen_pairs = [(np.abs(eigen_vals[i]), eigen_vecs[:, i]) for i in range(len(eigen_vals) )]\n",
    "\n",
    "# Sort the list of eigenvalue-eigenvector pairs based on the first element of each tuple (the eigenvalue).\n",
    "# The key parameter in sort function specifies a function of one argument that is used to extract a comparison key from each input element.\n",
    "# Here, we use a Lambda function Lambda k: k[e] which returns the first element of the tuple (the eigenvalue) .\n",
    "# setting reverse=True ensures the sorting is done in descending order, meaning the tuple with the highest eigenvalue comes first.\n",
    "\n",
    "eigen_pairs.sort(key=lambda k: k[0], reverse=True)\n",
    "    \n",
    "eigen_pairs"
   ]
  },
  {
   "cell_type": "code",
   "execution_count": 289,
   "id": "68e70eea-69c3-4010-bf4a-6d26fbf98c86",
   "metadata": {},
   "outputs": [
    {
     "name": "stdout",
     "output_type": "stream",
     "text": [
      "Matrix W:\n",
      " [[ 1.56650889e-01 -4.85795595e-01]\n",
      " [-2.57516773e-01 -2.31195791e-01]\n",
      " [ 5.24936728e-03 -3.91112205e-01]\n",
      " [-2.48043233e-01 -7.45554344e-02]\n",
      " [ 1.52724776e-01 -2.35643992e-01]\n",
      " [ 3.80291249e-01 -6.98178486e-02]\n",
      " [ 4.20585828e-01  2.67703410e-04]\n",
      " [-3.21608484e-01 -8.73711553e-02]\n",
      " [ 2.95546162e-01 -5.01268570e-02]\n",
      " [-5.91277839e-02 -5.04024398e-01]\n",
      " [ 2.86828914e-01  2.79409319e-01]\n",
      " [ 3.73070237e-01  1.26204380e-01]\n",
      " [ 2.95001704e-01 -3.65290369e-01]]\n"
     ]
    }
   ],
   "source": [
    "w = np.hstack((eigen_pairs[0][1][:, np.newaxis], eigen_pairs[1][1][:, np.newaxis]))\n",
    "\n",
    "print('Matrix W:\\n', w)"
   ]
  },
  {
   "cell_type": "code",
   "execution_count": 290,
   "id": "6ace0700-ed54-4e2e-b9b2-b29cb594f442",
   "metadata": {},
   "outputs": [
    {
     "data": {
      "text/plain": [
       "(124, 2)"
      ]
     },
     "execution_count": 290,
     "metadata": {},
     "output_type": "execute_result"
    }
   ],
   "source": [
    "X_train_pca = X_train_std.dot(w)\n",
    "X_test_pca = X_test_std.dot(w)\n",
    "X_train_pca.shape"
   ]
  },
  {
   "cell_type": "code",
   "execution_count": 317,
   "id": "69df4fb5-a723-4394-9832-d6fa7db5b64c",
   "metadata": {},
   "outputs": [
    {
     "data": {
      "image/png": "[encoded data removed]",
      "text/plain": [
       "<Figure size 640x480 with 1 Axes>"
      ]
     },
     "metadata": {},
     "output_type": "display_data"
    }
   ],
   "source": [
    "import matplotlib.pyplot as plt\n",
    "\n",
    "# Define color and marker styles for different classes in the data\n",
    "colors = ['r', 'b', 'g'] # Red, Blue, Green for class distinction\n",
    "markers = ['s', 'x', 'o'] # Square, Cross, Circle for class distinction\n",
    "\n",
    "# Iterate over unique class labels, colors, and markers simultaneously\n",
    "for label, color, marker in zip(np.unique(y_train), colors, markers) :\n",
    "    # Select data points for the current class label from the PCA-tnsformed training data\n",
    "    # X_train_pca[y_train == L, 0] picks PC1 values, X_train_pca[y_train == L, 1] picks PC2 values\n",
    "    plt.scatter(X_train_pca[y_train == label, 0],\n",
    "                 X_train_pca[y_train == label, 1],\n",
    "                 c=color,\n",
    "                 label=label,\n",
    "                 marker=marker)   # Use the corresponding marker for the class\n",
    "                     \n",
    "# Set the label for the x-axis to 'PC 1', representing the first principal component\n",
    "plt.xlabel ('PC 1')\n",
    "# Set the label for the y-axis to 'PC 2', representing the second principal component\n",
    "plt.ylabel ('PC 2')\n",
    "# Place the Legend in the lower left corner of the plot for clarity\n",
    "plt.legend (loc='lower left')\n",
    "# Adjust the plot to ensure all elements fit without overlapping\n",
    "plt.tight_layout()\n",
    "# Display the plot showing the scatter plot of PCA-transformed data colored and marked by class\n",
    "plt.show()"
   ]
  },
  {
   "cell_type": "code",
   "execution_count": 318,
   "id": "747c6780-4958-418b-b6ea-d4d9ea38d53b",
   "metadata": {},
   "outputs": [
    {
     "name": "stdout",
     "output_type": "stream",
     "text": [
      "Without PCA - Accuracy:\n",
      "0.9444444444444444\n",
      "\n",
      "With PCA - Accuracy:\n",
      "0.2777777777777778\n",
      "\n",
      "Time Comparison:\n",
      "No PCA: 0.08996391296386719 seconds, PCA: 0.0006401538848876953 seconds\n"
     ]
    }
   ],
   "source": [
    "# Importing necessary modules from scikit-Learn\n",
    "from sklearn import svm \n",
    "from sklearn import metrics\n",
    "import time # Importing the time module to measure execution time\n",
    "\n",
    "# Section: Training and Evaluating SVM Without PCA\n",
    "start_time = time.time()\n",
    "# Initialize the Support Vector Classifier with a Linear kerneL\n",
    "svm_no_pca = svm.SVC(kernel='linear')\n",
    "# Train the model using the original training data (X_train) and corresponding Labels (y_train)\n",
    "svm_no_pca.fit(X_train, y_train)\n",
    "# Make predictions on the test dataset (X_test)\n",
    "y_pred_no_pca = svm_no_pca.predict(X_test)\n",
    "# Calculate the elapsed time for training and prediction without PCA\n",
    "no_pca_time = time.time() - start_time\n",
    "# Print the accuracy of the model trained without PCA\n",
    "print(\"Without PCA - Accuracy:\")\n",
    "print (metrics.accuracy_score(y_test, y_pred_no_pca))\n",
    "\n",
    "# Section: Training and Evaluating SVM With PCA\n",
    "start_time = time.time()\n",
    "# Initialize another Support Vector Classifier instance\n",
    "svm_pca = svm.SVC(kernel='linear')\n",
    "# This time, train the model using the PCA-transformed training data (X_train_pca)\n",
    "svm_pca.fit(X_train_pca, y_train)\n",
    "# Predict on the PCA-transformed test dataset (X_test_pca)\n",
    "y_pred_pca = svm_pca.predict(X_test_pca)\n",
    "pca_time = time.time() - start_time\n",
    "# Print the accuracy of the model trained with PCA\n",
    "print(\"\\nWith PCA - Accuracy:\")\n",
    "print(metrics.accuracy_score(y_test, y_pred_pca))\n",
    "\n",
    "# Compare and print the execution times\n",
    "print(\"\\nTime Comparison:\")\n",
    "print(f\"No PCA: {no_pca_time} seconds, PCA: {pca_time} seconds\")"
   ]
  },
  {
   "cell_type": "code",
   "execution_count": 315,
   "id": "99ca1dcf-dd12-4344-b035-3c394c3d67d4",
   "metadata": {},
   "outputs": [
    {
     "name": "stdout",
     "output_type": "stream",
     "text": [
      "0.2777777777777778\n"
     ]
    }
   ],
   "source": [
    "from sklearn.decomposition import PCA\n",
    "\n",
    "# Initialize PCA for dimensionality reduction, keeping only 2 principal components\n",
    "pca = PCA(n_components=2)\n",
    "\n",
    "# Apply PCA transformation to standardized training dataset\n",
    "x_train_pca = pca.fit_transform(X_train_std)\n",
    "\n",
    "# Apply the same PCA transformation to standardized testing dataset (only transform)\n",
    "X_test_pca = pca.transform(X_test_std)\n",
    "\n",
    "# Initialize a Support Vector Machine (SVM) classifier with Linear kernel, regularization parameter C=1,\n",
    "# and a random state for reproducibility\n",
    "clf = svm.SVC(kernel='linear', C=1, random_state=42)\n",
    "\n",
    "# Train the SVM classifier using the transformed training dataset\n",
    "clf.fit(X_train_pca, y_train)\n",
    "\n",
    "# Predict labels for the transformed testing dataset\n",
    "y_pred = clf.predict(X_test_pca)\n",
    "\n",
    "# Calculate and print the accuracy score comparing predicted labels with actual labels of the testing dataset\n",
    "print(metrics.accuracy_score(y_test, y_pred))"
   ]
  },
  {
   "cell_type": "code",
   "execution_count": 316,
   "id": "70542bca-8b9f-4760-832b-2b3ab218123e",
   "metadata": {},
   "outputs": [
    {
     "name": "stdout",
     "output_type": "stream",
     "text": [
      "Explained Variance by Principal Components:\n",
      "PC 1: 36.57%\n",
      "PC 2: 20.05%\n",
      "PC 3: 10.63%\n",
      "PC 4: 7.52%\n",
      "PC 5: 6.68%\n",
      "PC 6: 5.12%\n",
      "PC 7: 3.68%\n",
      "PC 8: 2.42%\n",
      "PC 9: 2.22%\n",
      "PC 10: 1.83%\n",
      "PC 11: 1.35%\n",
      "PC 12: 1.19%\n",
      "PC 13: 0.74%\n"
     ]
    }
   ],
   "source": [
    "# Import the PCA class from the decomposition module of the scikit-learn Library\n",
    "from sklearn.decomposition import PCA\n",
    "\n",
    "# Initialize the PCA object with 13 (all) as the number of principal components to be kept\n",
    "pca = PCA(n_components=13)\n",
    "\n",
    "# Fit the PCA model to the standardized training dataset (X_train_std) and transform it\n",
    "X_pca = pca.fit_transform(X_train_std)\n",
    "\n",
    "# Compute the ratio of the explained variance of each principal component\n",
    "explained_variance = pca.explained_variance_ratio_\n",
    "\n",
    "# Print the explained variance as a percentage for each principal component\n",
    "print(\"Explained Variance by Principal Components:\")\n",
    "\n",
    "# Enumerate is used to iterate over explained_variance with an index starting from 1\n",
    "for i, var in enumerate(explained_variance, start=1) :\n",
    "    # Format the output to display the index of the PC and its explained variance in percentage\n",
    "    print(f\"PC {i}: {var*100:.2f}%\")"
   ]
  },
  {
   "cell_type": "code",
   "execution_count": 306,
   "id": "bfa9dc9e-377e-4273-987d-56199789afa1",
   "metadata": {},
   "outputs": [
    {
     "data": {
      "image/png": "[encoded data removed]",
      "text/plain": [
       "<Figure size 1000x600 with 2 Axes>"
      ]
     },
     "metadata": {},
     "output_type": "display_data"
    }
   ],
   "source": [
    "# Import the necessary Library for plotting\n",
    "import matplotlib. pyplot as plt\n",
    "\n",
    "# Calculate the cumulative explained variance using numpy's cumsum function\n",
    "cumulative_explained_variance = np.cumsum(explained_variance)\n",
    "\n",
    "# Create a new figure with specified size\n",
    "plt.figure(figsize=(10, 6))\n",
    "\n",
    "# Draw a bar chart to visualize individual explained variance ratios for each principal component\n",
    "# The x-axis represents the principal components (Labeled PC 1, PC 2, etc.)\n",
    "# The y-axis shows the percentage of variance explained by each component\n",
    "plt.bar(range(1, len(explained_variance)+1), explained_variance,\n",
    "    tick_label=[f'PC {i}' for i in range(1, len(explained_variance) +1)])\n",
    "plt.ylabel('Explained Variance Ratio (%) ') \n",
    "plt.xlabel('Principal Component')\n",
    "\n",
    "# Add another y-axis to the plot for cumulative explained variance\n",
    "plt.twinx()\n",
    "\n",
    "# Plot the cumulative explained variance as a line chart with markers and a dashed Line style\n",
    "plt.plot(range(1, len(cumulative_explained_variance)+1), cumulative_explained_variance*100, color='r', marker='o', linestyle='--')\n",
    "plt.ylabel('Cumulative Explained Variance (%)')\n",
    "\n",
    "# Set the title of the plot\n",
    "plt.title('Explained Variance per Principal Component')\n",
    "\n",
    "# Display the plot\n",
    "plt.show()"
   ]
  },
  {
   "cell_type": "code",
   "execution_count": 296,
   "id": "911adc19-67c1-48b9-ae82-f181e552c62c",
   "metadata": {},
   "outputs": [
    {
     "name": "stdout",
     "output_type": "stream",
     "text": [
      "Train mean: [ 1.54714951e-15  1.11201371e-15  4.18392919e-15  1.99482008e-15\n",
      " -2.22044605e-16  1.14335065e-15  5.13925819e-16 -5.53320830e-16\n",
      "  2.40667701e-15 -1.28929125e-16  1.39046480e-15  2.22223673e-15\n",
      "  8.14760445e-17]\n",
      "Test mean: [ 0.08100007  0.14294325  0.30371206  0.42037009  0.03091444 -0.31592019\n",
      " -0.16565481  0.01939858 -0.17134097  0.0723429  -0.21010379 -0.13134291\n",
      " -0.09043598]\n"
     ]
    }
   ],
   "source": [
    "print(\"Train mean:\", np.mean(X_train_std, axis=0))  # Should be ~0\n",
    "print(\"Test mean:\", np.mean(X_test_std, axis=0))    # Should NOT be 0"
   ]
  },
  {
   "cell_type": "code",
   "execution_count": 297,
   "id": "defbb3cf-6a9d-45a0-8a8f-cc6fd4896ac5",
   "metadata": {},
   "outputs": [
    {
     "name": "stdout",
     "output_type": "stream",
     "text": [
      "Explained variance: [0.36567205 0.20051749 0.10629623 0.0752286  0.06679372 0.05116723\n",
      " 0.03683889 0.02422699 0.02215247 0.01828507 0.01353698 0.0118729\n",
      " 0.00741139]\n"
     ]
    }
   ],
   "source": [
    "print(\"Explained variance:\", pca.explained_variance_ratio_)\n"
   ]
  }
 ],
 "metadata": {
  "kernelspec": {
   "display_name": "Python 3 (ipykernel)",
   "language": "python",
   "name": "python3"
  },
  "language_info": {
   "codemirror_mode": {
    "name": "ipython",
    "version": 3
   },
   "file_extension": ".py",
   "mimetype": "text/x-python",
   "name": "python",
   "nbconvert_exporter": "python",
   "pygments_lexer": "ipython3",
   "version": "3.12.7"
  }
 },
 "nbformat": 4,
 "nbformat_minor": 5
}
