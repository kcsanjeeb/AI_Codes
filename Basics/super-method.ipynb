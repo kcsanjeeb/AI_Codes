{
 "cells": [
  {
   "cell_type": "markdown",
   "metadata": {},
   "source": [
    "## Super()\n",
    "**super()** function in Python Example\n",
    "In the given example, The Emp class has an __init__ method that initializes the id, and name and Adds attributes. The Freelance class inherits from the Emp class and adds an additional attribute called Emails. It calls the parent class’s __init__ method super() to initialize the inherited attribute."
   ]
  },
  {
   "cell_type": "code",
   "execution_count": 1,
   "metadata": {},
   "outputs": [],
   "source": [
    "class Emp():\n",
    "    def __init__(self,id,name,add):\n",
    "        self.id=id\n",
    "        self.name=name\n",
    "        self.add=add\n",
    "\n",
    "class Freelance(Emp):\n",
    "    def __init__(self,id,name,add,email):\n",
    "        super().__init__(id,name,add)\n",
    "        self.email=email"
   ]
  },
  {
   "cell_type": "code",
   "execution_count": 2,
   "metadata": {},
   "outputs": [],
   "source": [
    "emp1 = Freelance(1,\"sanjeeb\",\"kapan\",\"kcsanjeeb091@gmail.com\")"
   ]
  },
  {
   "cell_type": "code",
   "execution_count": 8,
   "metadata": {},
   "outputs": [
    {
     "name": "stdout",
     "output_type": "stream",
     "text": [
      "1,sanjeeb,kapan,kcsanjeeb091@gmail.com\n"
     ]
    }
   ],
   "source": [
    "print(f\"{emp1.id},{emp1.name},{emp1.add},{emp1.email}\")"
   ]
  },
  {
   "cell_type": "code",
   "execution_count": 10,
   "metadata": {},
   "outputs": [
    {
     "name": "stdout",
     "output_type": "stream",
     "text": [
      "It is a mammal\n",
      "Has Tail and Legs\n"
     ]
    }
   ],
   "source": [
    "class Animals:\n",
    "    def __init__(self):\n",
    "        self.legs=4\n",
    "        self.domestic=True\n",
    "        self.tail=True\n",
    "        self.mammals=True\n",
    "    def isMammal(self):\n",
    "        if self.mammals:\n",
    "            print('It is a mammal')\n",
    "    def isDomestic(self):\n",
    "        if self.domestic:\n",
    "            print('It is a domestic animal')\n",
    "\n",
    "class Dogs(Animals):\n",
    "    def __init__(self):\n",
    "        super().__init__()\n",
    "    def isMammal(self):\n",
    "        super().isMammal()\n",
    "\n",
    "class Horses(Animals):\n",
    "    def __init__(self):\n",
    "        super().__init__()\n",
    "    def hasTailandLeg(self):\n",
    "        if self.tail and self.legs == 4:\n",
    "            print(\"Has Tail and Legs\")\n",
    "\n",
    "Tom = Dogs()\n",
    "Tom.isMammal()\n",
    "\n",
    "Bruno=Horses()\n",
    "Bruno.hasTailandLeg()"
   ]
  },
  {
   "cell_type": "code",
   "execution_count": 43,
   "metadata": {},
   "outputs": [
    {
     "name": "stdout",
     "output_type": "stream",
     "text": [
      "Dog cannot fly\n",
      "Dog cannot swim\n",
      "Dog Is a mammal\n"
     ]
    }
   ],
   "source": [
    "class Mammal():\n",
    "    def __init__(self, name):\n",
    "        print(name, \"Is a mammal\")\n",
    "\n",
    "class canFly(Mammal):\n",
    "    def __init__(self, canFly_name):\n",
    "        print(canFly_name, \"cannot fly\")\n",
    "        super().__init__(canFly_name)\n",
    "\n",
    "class canSwim(Mammal):\n",
    "    def __init__(self, canSwim_name):\n",
    "        print(canSwim_name, \"cannot swim\")\n",
    "        super().__init__(canSwim_name)\n",
    "\n",
    "\n",
    "class Animal(canFly, canSwim):\n",
    "    def __init__(self, name):\n",
    "        super().__init__(name)\n",
    "\n",
    "\n",
    "\n",
    "# Driver Code\n",
    "Carol = Animal(\"Dog\")"
   ]
  },
  {
   "cell_type": "code",
   "execution_count": 38,
   "metadata": {},
   "outputs": [
    {
     "name": "stdout",
     "output_type": "stream",
     "text": [
      "This is the uncle class\n"
     ]
    }
   ],
   "source": [
    "class Mom:\n",
    "    def __init__(self):\n",
    "        print(\"This is the mom class\")\n",
    "        \n",
    "class Dad:\n",
    "    def __init__(self):\n",
    "        print(\"This is the dad class\")\n",
    "        \n",
    "class Uncle:\n",
    "    def __init__(self):\n",
    "        print(\"This is the uncle class\")\n",
    "        \n",
    "class Child(Mom, Dad, Uncle):\n",
    "    def __init__(self):\n",
    "       super(Dad, self).__init__()\n",
    "\n",
    "ob = Child()"
   ]
  },
  {
   "cell_type": "code",
   "execution_count": 82,
   "metadata": {},
   "outputs": [
    {
     "name": "stdout",
     "output_type": "stream",
     "text": [
      "Dog can breathe\n",
      "Dog can fly\n",
      "Dog can swim\n",
      "Dog can Jump\n",
      "Dog Is a mammal\n",
      "(<class '__main__.Animal'>, <class '__main__.canBreathe'>, <class '__main__.canFly'>, <class '__main__.canSwim'>, <class '__main__.canJump'>, <class '__main__.Mammal'>, <class 'object'>)\n"
     ]
    }
   ],
   "source": [
    "class Mammal():\n",
    "    def __init__(self, name):\n",
    "        print(name, \"Is a mammal\")\n",
    "\n",
    "        \n",
    "class canJump():\n",
    "    def __init__(self, name):\n",
    "        print(name, \"can Jump\")\n",
    "        super().__init__(name)\n",
    "        \n",
    "class canFly(Mammal):\n",
    "    def __init__(self, canFly_name):\n",
    "        print(canFly_name, \"can fly\")\n",
    "        super().__init__(canFly_name)\n",
    "\n",
    "class canSwim(Mammal):\n",
    "    def __init__(self, canSwim_name):\n",
    "        print(canSwim_name, \"can swim\")\n",
    "        super().__init__(canSwim_name)\n",
    "\n",
    "class canBreathe(Mammal):\n",
    "    def __init__(self, canBreathe_name):\n",
    "        print(canBreathe_name, \"can breathe\")\n",
    "        super().__init__(canBreathe_name)\n",
    "\n",
    "class Animal(canBreathe,canFly,canSwim, canJump, Mammal):\n",
    "    def __init__(self, name):\n",
    "        super().__init__(name)\n",
    "        \n",
    "\n",
    "# Driver Code\n",
    "Carol = Animal(\"Dog\")\n",
    "print(Animal.__mro__)"
   ]
  },
  {
   "cell_type": "code",
   "execution_count": 88,
   "metadata": {},
   "outputs": [
    {
     "name": "stdout",
     "output_type": "stream",
     "text": [
      "Dog can breathe\n",
      "Dog can fly\n",
      "Dog can swim\n",
      "Dog can Jump\n",
      "Dog Is a mammal\n",
      "\n",
      "--- Calling funcCount() ---\n",
      "Animal funcCount called\n",
      "canBreathe funcCount called\n",
      "canFly funcCount called\n"
     ]
    }
   ],
   "source": [
    "class Mammal():\n",
    "    def __init__(self, name):\n",
    "        print(name, \"Is a mammal\")\n",
    "    def funcCount(self):\n",
    "        print('Mammal funcCount called')\n",
    "        # No super().funcCount() here because \"Mammal\" is the last real class before `object`.\n",
    "\n",
    "class canJump():\n",
    "    def __init__(self, name):\n",
    "        print(name, \"can Jump\")\n",
    "        super().__init__(name)\n",
    "    def funcCount(self):\n",
    "        print('canJump funcCount called')\n",
    "        super().funcCount()\n",
    "\n",
    "class canFly(Mammal):\n",
    "    def __init__(self, canFly_name):\n",
    "        print(canFly_name, \"can fly\")\n",
    "        super().__init__(canFly_name)\n",
    "    def funcCount(self):\n",
    "        print('canFly funcCount called')\n",
    "        super().funcCount()\n",
    "\n",
    "class canSwim(Mammal):\n",
    "    def __init__(self, canSwim_name):\n",
    "        print(canSwim_name, \"can swim\")\n",
    "        super().__init__(canSwim_name)\n",
    "    def funcCount(self):\n",
    "        print('canSwim funcCount called')\n",
    "        super().funcCount()\n",
    "\n",
    "class canBreathe(Mammal):\n",
    "    def __init__(self, canBreathe_name):\n",
    "        print(canBreathe_name, \"can breathe\")\n",
    "        super().__init__(canBreathe_name)\n",
    "    def funcCount(self):\n",
    "        print('canBreathe funcCount called')\n",
    "        super().funcCount()\n",
    "\n",
    "class Animal(canBreathe, canFly, canSwim, canJump, Mammal):\n",
    "    def __init__(self, name):\n",
    "        super().__init__(name)\n",
    "    def funcCount(self):\n",
    "        print('Animal funcCount called')\n",
    "        super().funcCount()\n",
    "\n",
    "# Driver Code\n",
    "Carol = Animal(\"Dog\")\n",
    "print(\"\\n--- Calling funcCount() ---\")\n",
    "Carol.funcCount()\n",
    "\n"
   ]
  },
  {
   "cell_type": "code",
   "execution_count": null,
   "metadata": {},
   "outputs": [],
   "source": [
    "# "
   ]
  }
 ],
 "metadata": {
  "kernelspec": {
   "display_name": ".venv",
   "language": "python",
   "name": "python3"
  },
  "language_info": {
   "codemirror_mode": {
    "name": "ipython",
    "version": 3
   },
   "file_extension": ".py",
   "mimetype": "text/x-python",
   "name": "python",
   "nbconvert_exporter": "python",
   "pygments_lexer": "ipython3",
   "version": "3.11.0"
  }
 },
 "nbformat": 4,
 "nbformat_minor": 2
}
