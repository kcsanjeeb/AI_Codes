{
 "cells": [
  {
   "cell_type": "markdown",
   "metadata": {},
   "source": [
    "## Symmetric Quantization "
   ]
  },
  {
   "cell_type": "code",
   "execution_count": null,
   "metadata": {},
   "outputs": [
    {
     "name": "stdout",
     "output_type": "stream",
     "text": [
      "tensor([[ 0.3647,  1.1854, -0.4698, -0.3893],\n",
      "        [-0.7885,  0.2649,  0.4186, -1.1576],\n",
      "        [-1.4789,  0.0940,  0.1670,  0.3681],\n",
      "        [ 0.6532,  1.5599, -2.4730, -1.7660]])\n",
      "2.473046064376831\n",
      "127\n",
      "Symmetric Scale: 0.01947280365651048\n"
     ]
    }
   ],
   "source": [
    "import torch\n",
    "# Function to calculate scale in symmetric mode\n",
    "def get_q_scale_symmetric(tensor, dtype=torch.int8):\n",
    "    # Get the maximum absolute value in the tensor\n",
    "    r_max = tensor.abs().max().item()\n",
    "    print(r_max)\n",
    "   \n",
    "    # Get the maximum value for the dtype (int8)\n",
    "    q_max = torch.iinfo(dtype).max\n",
    "    print(q_max)\n",
    "    \n",
    "    # Calculate and return the scale\n",
    "    return r_max / q_max\n",
    "\n",
    "# Test the implementation on a 4x4 matrix\n",
    "test_tensor = torch.randn((4, 4))\n",
    "print(test_tensor)\n",
    "scale = get_q_scale_symmetric(test_tensor)\n",
    "print(f'Symmetric Scale: {scale}')"
   ]
  },
  {
   "cell_type": "code",
   "execution_count": 6,
   "metadata": {},
   "outputs": [
    {
     "name": "stdout",
     "output_type": "stream",
     "text": [
      "2.473046064376831\n",
      "127\n",
      "Quantized Tensor (Symmetric):\n",
      "tensor([[  19,   61,  -24,  -20],\n",
      "        [ -40,   14,   21,  -59],\n",
      "        [ -76,    5,    9,   19],\n",
      "        [  34,   80, -127,  -91]], dtype=torch.int8)\n"
     ]
    }
   ],
   "source": [
    "def linear_q_symmetric(tensor, dtype=torch.int8):\n",
    "    # Get the scale using the symmetric method\n",
    "    scale = get_q_scale_symmetric(tensor)\n",
    "    \n",
    "    # Quantize the tensor\n",
    "    quantized_tensor = tensor / scale\n",
    "    quantized_tensor = torch.round(quantized_tensor).clamp(-128, 127).to(dtype)\n",
    "    \n",
    "    return quantized_tensor, scale\n",
    "\n",
    "# Quantize the test tensor\n",
    "quantized_tensor, scale = linear_q_symmetric(test_tensor)\n",
    "print(f'Quantized Tensor (Symmetric):\\n{quantized_tensor}')"
   ]
  },
  {
   "cell_type": "markdown",
   "metadata": {},
   "source": [
    "## Asymmetric Quantization "
   ]
  },
  {
   "cell_type": "code",
   "execution_count": 10,
   "metadata": {},
   "outputs": [
    {
     "name": "stdout",
     "output_type": "stream",
     "text": [
      "tensor([[ 0.3647,  1.1854, -0.4698, -0.3893],\n",
      "        [-0.7885,  0.2649,  0.4186, -1.1576],\n",
      "        [-1.4789,  0.0940,  0.1670,  0.3681],\n",
      "        [ 0.6532,  1.5599, -2.4730, -1.7660]])\n",
      "Asymmetric Scale: 0.01581564557318594, Zero Point: 28\n"
     ]
    }
   ],
   "source": [
    "def get_q_scale_and_zero_point_asymmetric(tensor, dtype=torch.int8):\n",
    "    # Get the min and max values in the tensor\n",
    "    r_min = tensor.min().item()\n",
    "    r_max = tensor.max().item()\n",
    "    \n",
    "    # Get the min and max values for the dtype (int8)\n",
    "    q_min = torch.iinfo(dtype).min\n",
    "    q_max = torch.iinfo(dtype).max\n",
    "    \n",
    "    # Calculate scale\n",
    "    scale = (r_max - r_min) / (q_max - q_min)\n",
    "    \n",
    "    # Calculate zero point\n",
    "    zero_point = q_min - (r_min / scale)\n",
    "    zero_point = int(round(zero_point))\n",
    "    \n",
    "    return scale, zero_point\n",
    "\n",
    "print(test_tensor)\n",
    "# Calculate scale and zero point for asymmetric mode\n",
    "scale, zero_point = get_q_scale_and_zero_point_asymmetric(test_tensor)\n",
    "print(f'Asymmetric Scale: {scale}, Zero Point: {zero_point}')"
   ]
  },
  {
   "cell_type": "code",
   "execution_count": 9,
   "metadata": {},
   "outputs": [
    {
     "name": "stdout",
     "output_type": "stream",
     "text": [
      "Quantized Tensor (Asymmetric):\n",
      "tensor([[  51,  103,   -2,    3],\n",
      "        [ -22,   45,   54,  -45],\n",
      "        [ -66,   34,   39,   51],\n",
      "        [  69,  127, -128,  -84]], dtype=torch.int8)\n"
     ]
    }
   ],
   "source": [
    "def linear_q_asymmetric(tensor, dtype=torch.int8):\n",
    "    # Get scale and zero point using asymmetric method\n",
    "    scale, zero_point = get_q_scale_and_zero_point_asymmetric(tensor)\n",
    "    \n",
    "    # Quantize the tensor\n",
    "    quantized_tensor = (tensor / scale) + zero_point\n",
    "    quantized_tensor = torch.round(quantized_tensor).clamp(-128, 127).to(dtype)\n",
    "    \n",
    "    return quantized_tensor, scale, zero_point\n",
    "\n",
    "# Quantize the test tensor in asymmetric mode\n",
    "quantized_tensor, scale, zero_point = linear_q_asymmetric(test_tensor)\n",
    "print(f'Quantized Tensor (Asymmetric):\\n{quantized_tensor}')"
   ]
  },
  {
   "cell_type": "code",
   "execution_count": null,
   "metadata": {},
   "outputs": [],
   "source": []
  }
 ],
 "metadata": {
  "kernelspec": {
   "display_name": ".venv",
   "language": "python",
   "name": "python3"
  },
  "language_info": {
   "codemirror_mode": {
    "name": "ipython",
    "version": 3
   },
   "file_extension": ".py",
   "mimetype": "text/x-python",
   "name": "python",
   "nbconvert_exporter": "python",
   "pygments_lexer": "ipython3",
   "version": "3.11.0"
  }
 },
 "nbformat": 4,
 "nbformat_minor": 2
}
